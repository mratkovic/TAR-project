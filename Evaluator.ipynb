{
 "cells": [
  {
   "cell_type": "code",
   "execution_count": null,
   "metadata": {
    "collapsed": false
   },
   "outputs": [],
   "source": [
    "import scipy as sp\n",
    "import sklearn\n",
    "import os\n",
    "import nltk\n",
    "%pylab inline\n",
    "import warnings\n",
    "warnings.filterwarnings(\"ignore\", category=DeprecationWarning) \n",
    "warnings.filterwarnings(\"ignore\", category=RuntimeWarning)\n",
    "warnings.filterwarnings(\"ignore\", category=VisibleDeprecationWarning)\n",
    "warnings.filterwarnings(\"ignore\", category=UserWarning)"
   ]
  },
  {
   "cell_type": "code",
   "execution_count": null,
   "metadata": {
    "collapsed": false
   },
   "outputs": [],
   "source": [
    "from BeautifulSoup import BeautifulSoup"
   ]
  },
  {
   "cell_type": "code",
   "execution_count": null,
   "metadata": {
    "collapsed": false,
    "scrolled": true
   },
   "outputs": [],
   "source": [
    "from sklearn.preprocessing import scale\n",
    "import re\n",
    "from nltk.corpus import stopwords\n",
    "URL_REGEX = re.compile(r'(https?|ftp)://[^\\s]*')\n",
    "REPLY_REGEX = re.compile(r'@username')\n",
    "\n",
    "URL_TAG = 'URL'\n",
    "REPLY_TAG = 'REP'\n",
    "\n",
    "# PREPROCESS XML DOCUMENTS\n",
    "def extract_from_xml(xml):\n",
    "    bs = BeautifulSoup(xml)\n",
    "    # tab na pocetku\n",
    "    return [document.text.rstrip('\\t') for document in bs.findAll('document')]\n",
    "\n",
    "def trim_multiple_repeats(string):\n",
    "    # coooooool-> coool\n",
    "    # use 3 to make distinct from 2 repeats that are common in \n",
    "    # some languages\n",
    "    return re.sub(r'(.)\\1{3,}', r'\\1\\1\\1', string) \n",
    "\n",
    "def preprocess_tweet(text, language):\n",
    "    text = URL_REGEX.sub(URL_TAG, text)\n",
    "    text = REPLY_REGEX.sub(REPLY_TAG, text)\n",
    "    text = trim_multiple_repeats(text)\n",
    "    \n",
    "    \n",
    "    letters_only = re.sub(\"[^a-zA-Z]\", \" \", text)\n",
    "    words = letters_only.lower().split()                            \n",
    "    stops = set(stopwords.words(language))                  \n",
    "    meaningful_words = [w for w in words if not w in stops]  \n",
    "    return( \" \".join( meaningful_words ))\n",
    "\n",
    "def get_smile_cnt(string):\n",
    "    return len(re.findall(r'(?::|;|:\\'|=)(?:-)?(?:\\)|\\(|D|P|d|p|3)|<3|</3|xd|xD|XD',string))\n",
    "\n",
    "def cnt_long_repeats(string):\n",
    "    return len(re.findall(r'(\\w)\\1{3,}', string))\n",
    "\n",
    "def cnt_replys(string):\n",
    "    return len(re.findall(r'@username', string))\n",
    "\n",
    "def cnt_hashtags(string):\n",
    "    return len(re.findall(r'#(\\w+)', string))\n",
    "\n",
    "def cnt_exclamations(string):\n",
    "    return len(re.findall(r'!+', string))\n",
    "\n"
   ]
  },
  {
   "cell_type": "markdown",
   "metadata": {},
   "source": [
    "Preprocess data\n"
   ]
  },
  {
   "cell_type": "markdown",
   "metadata": {},
   "source": [
    "Strukture za pohranu dataseta"
   ]
  },
  {
   "cell_type": "code",
   "execution_count": null,
   "metadata": {
    "collapsed": false
   },
   "outputs": [],
   "source": [
    "LABELS = ['userid', 'gender', 'age_group',\n",
    "          'extroverted', 'stable', 'agreeable',\n",
    "          'conscientious', 'open']\n",
    "TYPES = ['string'] * 3 + ['float'] * 5\n",
    "\n",
    "''' User class used to store parsed data'''\n",
    "class User(object):\n",
    "\n",
    "    def __init__(self, line):\n",
    "        self.labels = LABELS\n",
    "\n",
    "        parts = map(str.strip, line.split(FIELDS_DELIMITER))\n",
    "        if len(parts) == 1:\n",
    "            parts = [parts[0]] + [''] * 7\n",
    "            \n",
    "            self.userid = parts[0]\n",
    "            self.gender = None\n",
    "            self.age_group = None\n",
    "            self.extroverted = None\n",
    "            self.stable = None\n",
    "            self.agreeable = None\n",
    "            self.conscientious = None\n",
    "            self.open = None\n",
    "        \n",
    "        else:\n",
    "            self.userid = parts[0]\n",
    "            self.gender = parts[1]\n",
    "            self.age_group = parts[2]\n",
    "\n",
    "            self.extroverted = float(parts[3])\n",
    "            self.stable = float(parts[4])\n",
    "            self.agreeable = float(parts[5])\n",
    "            self.conscientious = float(parts[6])\n",
    "            self.open = float(parts[7])\n",
    "        self.documents = []\n",
    "\n",
    "    def user_details(self):\n",
    "        return [self.userid, self.gender,\n",
    "                self.age_group, self.extroverted, self.stable,\n",
    "                self.agreeable, self.conscientious, self.open]\n",
    "\n",
    "    def user_documents(self):\n",
    "        return self.documents\n",
    "    \n",
    "    def merge_documents(self):\n",
    "        return '\\n'.join(self.documents)\n",
    "\n",
    "\n",
    "\n"
   ]
  },
  {
   "cell_type": "code",
   "execution_count": null,
   "metadata": {
    "collapsed": false
   },
   "outputs": [],
   "source": [
    "TRUTH_FILE = 'truth.txt'\n",
    "FIELDS_DELIMITER = ':::'\n",
    "LABELS = ['userid', 'gender', 'age_group',\n",
    "          'extroverted', 'stable', 'agreeable',\n",
    "          'conscientious', 'open']\n",
    "\n",
    "'''Dataset wrapper - parses, cleans and stores user data (documents and truth)\n",
    "'''\n",
    "class Dataset(object):\n",
    "\n",
    "    def __init__(self, path, language):\n",
    "        path += language\n",
    "        if not os.path.exists(path) or not os.path.isdir(path):\n",
    "            raise Exception('No such dir ' + path)\n",
    "        \n",
    "        self.language = language\n",
    "        self.path = path\n",
    "        self.users = {}\n",
    "        self.X = []\n",
    "        self.y = []\n",
    "        self.load()\n",
    "        self.labels = LABELS\n",
    "\n",
    "    def load(self):\n",
    "        user_files = filter(lambda name: name != TRUTH_FILE, os.listdir(self.path))\n",
    "        truth = os.path.join(self.path, TRUTH_FILE)\n",
    "        assert os.path.isfile(truth)\n",
    "\n",
    "        # load truth\n",
    "        with open(truth, 'r') as f:\n",
    "            for line in f:\n",
    "                user = User(line)\n",
    "                self.users[user.userid] = user\n",
    "\n",
    "        # load texts\n",
    "        for path in user_files:\n",
    "            user = os.path.splitext(path)[0]\n",
    "            path = os.path.join(self.path, path)\n",
    "\n",
    "            with open(path, 'r') as xml:\n",
    "                content = extract_from_xml(xml.read())\n",
    "                if not self.users.has_key(user):\n",
    "                    self.users[user] = User(user)\n",
    "                self.users[user].documents = content\n",
    "                \n",
    "    def simplify_documents(self):\n",
    "        for key, user in self.users.items():\n",
    "            self.users[key].documents = map(lambda x: preprocess_tweet(x, self.language), self.users[key].documents)\n",
    "    \n",
    "    def store_as_samples(self):\n",
    "        for id, user in self.users.items():\n",
    "            self.X.append(user.merge_documents())\n",
    "            self.y.append(np.array(user.user_details()))\n",
    "             \n",
    "        self.X = np.array(self.X)\n",
    "        self.y = np.array(self.y)\n",
    "        \n",
    "    def get_documents(self):\n",
    "        x = []\n",
    "        for _, user in self.users.items():\n",
    "            x.append(user.merge_documents())\n",
    "        return np.array(x)\n",
    "        \n",
    "    def get_tweet_len_stats(self):\n",
    "        avgs = []\n",
    "        stds = []\n",
    "        \n",
    "        for _, user in self.users.items():\n",
    "            lens = map(len, user.documents)\n",
    "            avgs.append(np.mean(lens))\n",
    "            stds.append(np.std(lens))\n",
    "        return avgs, stds\n",
    "    \n",
    "    def get_word_len_stats(self):\n",
    "        avgs = []\n",
    "        stds = []\n",
    "        \n",
    "        for _, user in self.users.items():\n",
    "            words = []\n",
    "            for doc in user.documents:\n",
    "                words.extend(doc.split())\n",
    "            \n",
    "            lens = map(len, words)\n",
    "            \n",
    "            \n",
    "            avgs.append(np.mean(lens))\n",
    "            stds.append(np.std(lens))\n",
    "            \n",
    "        return avgs, stds\n",
    "        \n",
    "    def get_samples(self, feature='all'):\n",
    "        if feature == 'all':\n",
    "            return self.X, self.y\n",
    "\n",
    "        feature_col = [i for i, lab in enumerate(self.labels) if lab in feature]\n",
    "        if len(feature_col)==0:\n",
    "            raise Exception('Invalid feature %s\\nValid features %s' %\n",
    "                            (feature, ', '.join(self.labels)))\n",
    "\n",
    "        return self.X, np.array(([ ', '.join(i) for i in self.y[:, feature_col]]))        \n",
    "\n",
    "def append_numeric_feature(features, new_feature):\n",
    "    try:\n",
    "        return np.column_stack((features,scale(map(float, new_feature))))    \n",
    "    except Exception as e:\n",
    "        print 'ERROR', str(e)\n",
    "        for f in new_feature:\n",
    "            try:\n",
    "                float(f)\n",
    "            except:\n",
    "                print f\n",
    "                print \"error\"\n",
    "                \n",
    "def append_numeric_list_of_features(features, new_features):\n",
    "    for f in new_features:\n",
    "        features = append_numeric_feature(features, f)\n",
    "    return features\n",
    "                \n",
    "\n",
    "# len, len_std, cim\n",
    "def additional_features(dataset):\n",
    "    documents = dataset.get_documents()\n",
    "    \n",
    "    avg_len, std_len = dataset.get_tweet_len_stats()\n",
    "    word_len, word_std = dataset.get_word_len_stats()\n",
    "    \n",
    "    \n",
    "    smile_cnt = []\n",
    "    exclamations = []\n",
    "    \n",
    "    hashtags = []\n",
    "    mentions = []\n",
    "    \n",
    "    repeats = []\n",
    "    \n",
    "    \n",
    "    for _, user in dataset.users.items():\n",
    "        cnts = map(get_smile_cnt, user.documents)\n",
    "        smile_cnt.append(np.mean(cnts))\n",
    "        \n",
    "        cnts = map(cnt_exclamations, user.documents)\n",
    "        #map(lambda s: s.count('!'), user.documents)\n",
    "        exclamations.append(np.mean(cnts))\n",
    "        \n",
    "\n",
    "        cnts = map(cnt_long_repeats, user.documents)\n",
    "        repeats.append(np.mean(cnts))\n",
    "        \n",
    "        cnts = map(cnt_hashtags, user.documents)\n",
    "        hashtags.append(np.mean(cnts))\n",
    "        \n",
    "        cnts = map(cnt_replys, user.documents)\n",
    "        mentions.append(np.mean(cnts))\n",
    "    \n",
    "    \n",
    "    return [avg_len, std_len, word_len, word_std, smile_cnt, exclamations, hashtags, mentions, repeats]\n",
    "    \n"
   ]
  },
  {
   "cell_type": "code",
   "execution_count": null,
   "metadata": {
    "collapsed": true
   },
   "outputs": [],
   "source": [
    "EXTRA = ['avg_len', 'std_len', 'word_len',\n",
    "                                  'word_std', 'smile_cnt', 'exclamations',\n",
    "                                  'hashtags', 'mentions', 'repeats']\n",
    "def split_samples(X, y):\n",
    "    ys = sorted(set(y))\n",
    "    groups = []\n",
    "    \n",
    "    for y_val in ys:\n",
    "        groups.append([i for i, yy in enumerate(y) if yy == y_val])\n",
    "    return groups, ys\n",
    "\n",
    "def print_class_stats(groups, labels):\n",
    "    #[avg_len, std_len, word_len, word_std, smile_cnt, exclamations, hashtags, mentions, repeats]\n",
    "    for id, feature in enumerate(EXTRA):\n",
    "        print feature\n",
    "        for label, ids in zip(labels, groups):\n",
    "            print \"%s; cnt: %d\" % (label, len(ids)),\n",
    "            extras = [extra_features[id][i] for i in ids]\n",
    "            print '; average: ', np.mean(extras)\n",
    "        print\n",
    "\n",
    "def get_class_stats(groups, labels):\n",
    "    rv = {}\n",
    "    #[avg_len, std_len, word_len, word_std, smile_cnt, exclamations, hashtags, mentions, repeats]\n",
    "    for id, feature in enumerate(['avg_len', 'std_len', 'word_len',\n",
    "                                  'word_std', 'smile_cnt', 'exclamations',\n",
    "                                  'hashtags', 'mentions', 'repeats']):\n",
    "        for label, ids in zip(labels, groups):\n",
    "            extras = [extra_features[id][i] for i in ids]\n",
    "            \n",
    "            rv.setdefault(feature, []).append('%.3f' % np.mean(extras))\n",
    "    return rv\n",
    "\n",
    "\n"
   ]
  },
  {
   "cell_type": "markdown",
   "metadata": {},
   "source": [
    "Pomocni razredi"
   ]
  },
  {
   "cell_type": "code",
   "execution_count": null,
   "metadata": {
    "collapsed": true
   },
   "outputs": [],
   "source": [
    "from sklearn.base import TransformerMixin\n",
    "'''Transformes sparse matrix to dense - ex. for NaiveBayes'''\n",
    "class DenseTransformer(TransformerMixin):\n",
    "\n",
    "    def transform(self, X, y=None, **fit_params):\n",
    "        return X.todense()\n",
    "\n",
    "    def fit_transform(self, X, y=None, **fit_params):\n",
    "        self.fit(X, y, **fit_params)\n",
    "        return self.transform(X)\n",
    "\n",
    "    def fit(self, X, y=None, **fit_params):\n",
    "        return self"
   ]
  },
  {
   "cell_type": "code",
   "execution_count": null,
   "metadata": {
    "collapsed": true
   },
   "outputs": [],
   "source": [
    "# bellow code taken and adapted from example\n",
    "# @ http://scikit-learn.org/stable/auto_examples/plot_learning_curve.html\n",
    "from sklearn.learning_curve import learning_curve\n",
    "def plot_learning_curve(estimator, title, X, y, ylim=None, cv=None, n_jobs=-1, train_sizes=np.linspace(.1, 1.0, 10)):\n",
    "\n",
    "    plt.figure()\n",
    "    plt.title(title)\n",
    "    if ylim is not None:\n",
    "        plt.ylim(*ylim)\n",
    "    plt.xlabel(\"Training examples\")\n",
    "    plt.ylabel(\"Score\")\n",
    "    train_sizes, train_scores, test_scores = learning_curve(estimator, X, y, cv=cv, n_jobs=n_jobs, train_sizes=train_sizes)\n",
    "    train_scores_mean = np.mean(train_scores, axis=1)\n",
    "    train_scores_std = np.std(train_scores, axis=1)\n",
    "    test_scores_mean = np.mean(test_scores, axis=1)\n",
    "    test_scores_std = np.std(test_scores, axis=1)\n",
    "    plt.grid()\n",
    "\n",
    "    plt.fill_between(train_sizes, train_scores_mean - train_scores_std,\n",
    "                     train_scores_mean + train_scores_std, alpha=0.1,\n",
    "                     color=\"r\")\n",
    "    plt.fill_between(train_sizes, test_scores_mean - test_scores_std,\n",
    "                     test_scores_mean + test_scores_std, alpha=0.1, color=\"g\")\n",
    "    plt.plot(train_sizes, train_scores_mean, 'o-', color=\"r\",\n",
    "             label=\"Training score\")\n",
    "    plt.plot(train_sizes, test_scores_mean, 'o-', color=\"g\",\n",
    "             label=\"Cross-validation score\")\n",
    "\n",
    "    plt.legend(loc=\"best\")\n",
    "    return plt"
   ]
  },
  {
   "cell_type": "code",
   "execution_count": null,
   "metadata": {
    "collapsed": false
   },
   "outputs": [],
   "source": [
    "from sklearn.grid_search import GridSearchCV\n",
    "from sklearn.cross_validation import train_test_split\n",
    "from sklearn.metrics import f1_score, precision_score, recall_score, confusion_matrix,precision_recall_curve, mean_squared_error\n",
    "from sklearn.feature_selection import SelectKBest\n",
    "from sklearn.feature_selection import f_classif\n",
    "\n",
    "def printScore(y_true,y_pred,average='micro',pos_label=None):\n",
    "    print average+\" scores:\"\n",
    "    print \"\\t P  = %s\" % precision_score(y_true,y_pred,average=average,pos_label=pos_label)\n",
    "    print \"\\t R  = %s\" % recall_score(y_true,y_pred,average=average,pos_label=pos_label)\n",
    "    print \"\\t F1 = %s\" % f1_score(y_true,y_pred,average=average,pos_label=pos_label)\n",
    "        \n",
    "\n",
    "\n",
    "def modelEvaluator(X, y, model, parameters, classifier = True, scoring = None, num_folds = 3,test_size = 0.3,ylim=None,train_sizes_lncurv=np.linspace(.1, 1.0, 10), verbose=False):\n",
    "   \n",
    "    X_train, X_test, y_train, y_test = train_test_split(X, y, test_size=test_size, random_state=42)\n",
    "    \n",
    "    grid_cv = GridSearchCV( model, parameters, scoring = scoring, n_jobs = -1, verbose = 1, cv = num_folds)\n",
    "    grid_cv.fit(X_train,y_train)\n",
    "    \n",
    "    \n",
    "    estimator = grid_cv.best_estimator_\n",
    "    if verbose:\n",
    "        print 'Model %s' % estimator\n",
    "        print 'Model best_params: %s' % grid_cv.best_params_\n",
    "        print 'Model score : %s' % estimator.score(X_test,y_test)\n",
    "    \n",
    "    y_pred = estimator.predict(X_test)\n",
    "        \n",
    "    if not verbose and classifier: return estimator\n",
    "    \n",
    "    if classifier == True:\n",
    "        print \"Confusion matrix:\\n %s\" % confusion_matrix(y_test,y_pred)\n",
    "        if len(set(y)) == 2:\n",
    "            printScore(y_test,y_pred,'binary',list(set(y))[0])\n",
    "        else:\n",
    "            printScore(y_test,y_pred,'macro')\n",
    "            printScore(y_test,y_pred) \n",
    "        plot_learning_curve(estimator, \"Learning curve \" + str(model).split('(')[0], X, y,  ylim=ylim, cv=num_folds,train_sizes=train_sizes_lncurv)\n",
    "    else:\n",
    "        sqr = sqrt(mean_squared_error(estimator.predict(X_test), y_test))\n",
    "        if verbose : print 'RMSE: ', sqr\n",
    "        return estimator, sqr, grid_cv.best_params_\n",
    "    return estimator"
   ]
  },
  {
   "cell_type": "code",
   "execution_count": null,
   "metadata": {
    "collapsed": false
   },
   "outputs": [],
   "source": [
    "from sklearn.feature_extraction.text import TfidfVectorizer\n",
    "from sklearn.svm import LinearSVC, SVC\n",
    "from sklearn.naive_bayes import  GaussianNB\n",
    "from sklearn.pipeline import  Pipeline \n",
    "from sklearn.tree import DecisionTreeClassifier\n",
    "from sklearn.ensemble import RandomForestClassifier\n",
    "from sklearn.linear_model import LogisticRegression\n",
    "from sklearn.dummy import DummyClassifier, DummyRegressor\n",
    "\n",
    "def evaluateClassifier(sample_name, dataset_path, language, models, parameters, num_folds=10, k=10, verbose=False):\n",
    "    \n",
    "    vectorize = TfidfVectorizer(analyzer='char', ngram_range=(3,3))\n",
    "    vectorize_pipe = Pipeline([('vectorize', vectorize), ('densen', DenseTransformer())])\n",
    "    dataset = Dataset(dataset_path, language)\n",
    "    extra_features = additional_features(dataset)\n",
    "    dataset.simplify_documents()\n",
    "    dataset.store_as_samples()\n",
    "    X, y = dataset.get_samples(sample_name)\n",
    "    Xvec = vectorize_pipe.fit_transform(X)\n",
    "    Xvec = append_numeric_list_of_features(Xvec, extra_features)\n",
    "    sel = SelectKBest(f_classif, k=k)\n",
    "    Xvec = sel.fit_transform(Xvec,y)\n",
    "    \n",
    "    for model, parameter in zip(models,parameters):\n",
    "        if verbose: print '\\n', str(model).split('(')[0], language, '\\n' \n",
    "        modelEvaluator(Xvec, y, model, parameter, num_folds=num_folds, verbose=verbose)\n"
   ]
  },
  {
   "cell_type": "code",
   "execution_count": null,
   "metadata": {
    "collapsed": false,
    "scrolled": false
   },
   "outputs": [],
   "source": [
    "dataset_path = './dataset/'\n",
    "d = Dataset(dataset_path,'english')\n",
    "extra_features = additional_features(d)\n",
    "d.simplify_documents()\n",
    "d.store_as_samples()\n",
    "\n",
    "X, y = d.get_samples('age_group')\n",
    "groups, labels = split_samples(X, y)\n",
    "print_class_stats(groups, labels)\n",
    "\n",
    "X, y = d.get_samples('gender')\n",
    "groups, labels = split_samples(X, y)\n",
    "print_class_stats(groups, labels)"
   ]
  },
  {
   "cell_type": "code",
   "execution_count": null,
   "metadata": {
    "collapsed": false,
    "scrolled": true
   },
   "outputs": [],
   "source": [
    "models = [DummyClassifier(), GaussianNB(), LinearSVC(), SVC(), DecisionTreeClassifier(), RandomForestClassifier()]\n",
    "parameters = [{}, {}, { 'C':linspace(1, 100,10)},{'kernel':('linear', 'rbf','poly','sigmoid'), 'C':linspace(1, 100,10)},{}, {}]\n",
    "\n",
    "dataset_path = './dataset/'"
   ]
  },
  {
   "cell_type": "code",
   "execution_count": null,
   "metadata": {
    "collapsed": true
   },
   "outputs": [],
   "source": [
    "language = 'english'"
   ]
  },
  {
   "cell_type": "code",
   "execution_count": null,
   "metadata": {
    "collapsed": false,
    "scrolled": false
   },
   "outputs": [],
   "source": [
    "print '\\n' +  'age_group:'\n",
    "evaluateClassifier('age_group', dataset_path, language, models, parameters, k=2000, verbose=True)  "
   ]
  },
  {
   "cell_type": "code",
   "execution_count": null,
   "metadata": {
    "collapsed": false
   },
   "outputs": [],
   "source": [
    "print '\\n' +  'gender:' \n",
    "evaluateClassifier('gender', dataset_path, language, models, parameters, k=1500, verbose=True) "
   ]
  },
  {
   "cell_type": "code",
   "execution_count": null,
   "metadata": {
    "collapsed": true
   },
   "outputs": [],
   "source": [
    "language = 'italian'"
   ]
  },
  {
   "cell_type": "code",
   "execution_count": null,
   "metadata": {
    "collapsed": true
   },
   "outputs": [],
   "source": [
    "print '\\n' +  'age_group:'\n",
    "evaluateClassifier('age_group', dataset_path, language, models, parameters, k=2000, verbose=True) "
   ]
  },
  {
   "cell_type": "code",
   "execution_count": null,
   "metadata": {
    "collapsed": true
   },
   "outputs": [],
   "source": [
    "print '\\n' +  'gender:' \n",
    "evaluateClassifier('gender', dataset_path, language, models, parameters, k=1500, verbose=True) "
   ]
  },
  {
   "cell_type": "code",
   "execution_count": null,
   "metadata": {
    "collapsed": false,
    "scrolled": true
   },
   "outputs": [],
   "source": [
    "from sklearn.linear_model import LinearRegression\n",
    "from sklearn.tree import DecisionTreeRegressor\n",
    "from sklearn.ensemble import RandomForestRegressor\n",
    "from sklearn.svm import SVR\n",
    "from sklearn.metrics import mean_squared_error\n",
    "from sklearn.naive_bayes import MultinomialNB\n",
    "\n",
    "\n",
    "def evaluate_model(sample_name, dataset_path, language, models, paramters, k=1500, num_folds=10, scoring='mean_squared_error',classifier=False, verbose=True):\n",
    "    vectorize = TfidfVectorizer(analyzer='char', ngram_range=(3,3))\n",
    "    \n",
    "    d = Dataset(dataset_path, language)\n",
    "    extra_features = additional_features(d)\n",
    "    d.simplify_documents()\n",
    "    d.store_as_samples()\n",
    "    X, y = d.get_samples(sample_name)\n",
    "    \n",
    "    \n",
    "    y = np.array(y, dtype=float)\n",
    "    vectorize = TfidfVectorizer(analyzer='char', ngram_range=(3,3))\n",
    "    vectorize_pipe = Pipeline([('vectorize', vectorize), ('densen', DenseTransformer())])\n",
    "\n",
    "    Xvec = vectorize_pipe.fit_transform(X)\n",
    "    Xvec = append_numeric_list_of_features(Xvec, extra_features)\n",
    "    \n",
    "    sel = SelectKBest(f_classif, k=k)\n",
    "    Xvec = sel.fit_transform(Xvec,y)\n",
    "    \n",
    "    bestModel = None\n",
    "    bestRMSE = 1\n",
    "    bestParam = {}\n",
    "    for model, parameter in zip(models,parameters):\n",
    "        if verbose: print '\\n', str(model).split('(')[0], language, '\\n' \n",
    "        m, rmse, par = modelEvaluator(Xvec, y, model, parameter, num_folds=num_folds,scoring=scoring,classifier=classifier, verbose=verbose)\n",
    "        if rmse < bestRMSE:\n",
    "            bestModel = model\n",
    "            bestRMSE = rmse\n",
    "            bestParam = par\n",
    "    print \"\\n\\n BEST MODEL:\\n\" + str(bestModel).split('(')[0]+\"\\n\"\n",
    "    print 'Model %s' % bestModel\n",
    "    print 'Model RMSE : %s \\n' % bestRMSE \n",
    "    return bestModel"
   ]
  },
  {
   "cell_type": "code",
   "execution_count": null,
   "metadata": {
    "collapsed": true
   },
   "outputs": [],
   "source": [
    "models = [LinearRegression(), DecisionTreeRegressor(), RandomForestRegressor(),SVR()]\n",
    "parameters = [{},{},{},{'kernel':('linear', 'rbf','poly','sigmoid'), 'C':linspace(1, 100,10)}]\n",
    "language = 'english'"
   ]
  },
  {
   "cell_type": "code",
   "execution_count": null,
   "metadata": {
    "collapsed": false
   },
   "outputs": [],
   "source": [
    "evaluate_model('extroverted', dataset_path, language, models, parameters, k=1500)"
   ]
  },
  {
   "cell_type": "code",
   "execution_count": null,
   "metadata": {
    "collapsed": false,
    "scrolled": true
   },
   "outputs": [],
   "source": [
    "evaluate_model('stable',dataset_path, language, models, parameters, k=1500)"
   ]
  },
  {
   "cell_type": "code",
   "execution_count": null,
   "metadata": {
    "collapsed": false
   },
   "outputs": [],
   "source": [
    "evaluate_model('agreeable',dataset_path, language, models, parameters, k=1500)"
   ]
  },
  {
   "cell_type": "code",
   "execution_count": null,
   "metadata": {
    "collapsed": false
   },
   "outputs": [],
   "source": [
    "evaluate_model('conscientious', dataset_path, language, models, parameters, k=1500)"
   ]
  },
  {
   "cell_type": "code",
   "execution_count": null,
   "metadata": {
    "collapsed": true
   },
   "outputs": [],
   "source": [
    "evaluate_model('open',dataset_path, language, models, parameters, k=1500)"
   ]
  },
  {
   "cell_type": "markdown",
   "metadata": {
    "collapsed": false,
    "scrolled": true
   },
   "source": [
    "# Demo"
   ]
  },
  {
   "cell_type": "markdown",
   "metadata": {},
   "source": [
    "## Classifiers"
   ]
  },
  {
   "cell_type": "code",
   "execution_count": null,
   "metadata": {
    "collapsed": true
   },
   "outputs": [],
   "source": [
    "dataset_path = './dataset/'\n",
    "language = 'english'\n",
    "\n",
    "models = [DummyClassifier(), GaussianNB(), LinearSVC(), SVC(), DecisionTreeClassifier(), RandomForestClassifier()]\n",
    "parameters = [{}, {}, { 'C':linspace(1, 100,10)},{'kernel':('linear', 'rbf','poly','sigmoid'), 'C':linspace(1, 100,10)},{}, {}]\n"
   ]
  },
  {
   "cell_type": "code",
   "execution_count": null,
   "metadata": {
    "collapsed": false
   },
   "outputs": [],
   "source": [
    "evaluateClassifier('age_group', dataset_path, language, models, parameters, k=2000, verbose=True) "
   ]
  },
  {
   "cell_type": "markdown",
   "metadata": {},
   "source": [
    "## Regresion"
   ]
  },
  {
   "cell_type": "code",
   "execution_count": null,
   "metadata": {
    "collapsed": true
   },
   "outputs": [],
   "source": [
    "language = 'english'\n",
    "models = [LinearRegression(), DecisionTreeRegressor(), RandomForestRegressor(),SVR()]\n",
    "parameters = [{},{},{},{'kernel':('linear', 'rbf','poly','sigmoid'), 'C':linspace(1, 100,10)}]\n"
   ]
  },
  {
   "cell_type": "code",
   "execution_count": null,
   "metadata": {
    "collapsed": false,
    "scrolled": false
   },
   "outputs": [],
   "source": [
    "evaluate_model('extroverted', dataset_path, language, models, parameters)"
   ]
  },
  {
   "cell_type": "code",
   "execution_count": null,
   "metadata": {
    "collapsed": true
   },
   "outputs": [],
   "source": []
  }
 ],
 "metadata": {
  "kernelspec": {
   "display_name": "Python 2",
   "language": "python",
   "name": "python2"
  },
  "language_info": {
   "codemirror_mode": {
    "name": "ipython",
    "version": 2
   },
   "file_extension": ".py",
   "mimetype": "text/x-python",
   "name": "python",
   "nbconvert_exporter": "python",
   "pygments_lexer": "ipython2",
   "version": "2.7.6"
  }
 },
 "nbformat": 4,
 "nbformat_minor": 0
}

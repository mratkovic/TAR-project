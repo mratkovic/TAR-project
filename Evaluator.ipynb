{
 "cells": [
  {
   "cell_type": "code",
   "execution_count": 2,
   "metadata": {
    "collapsed": false
   },
   "outputs": [
    {
     "name": "stdout",
     "output_type": "stream",
     "text": [
      "Populating the interactive namespace from numpy and matplotlib\n"
     ]
    }
   ],
   "source": [
    "import scipy as sp\n",
    "import sklearn\n",
    "import os\n",
    "\n",
    "%pylab inline"
   ]
  },
  {
   "cell_type": "markdown",
   "metadata": {},
   "source": [
    "Preprocess data\n"
   ]
  },
  {
   "cell_type": "code",
   "execution_count": 1,
   "metadata": {
    "collapsed": true
   },
   "outputs": [],
   "source": [
    "from BeautifulSoup import BeautifulSoup\n",
    "import re\n",
    "\n",
    "URL_REGEX = re.compile(r'(https?|ftp)://[^\\s]*')\n",
    "REPLY_REGEX = re.compile(r'@username')\n",
    "\n",
    "URL_TAG = 'URL'\n",
    "REPLY_TAG = 'REP'\n",
    "\n",
    "# PREPROCESS XML DOCUMENTS\n",
    "def extract_from_xml(xml):\n",
    "    bs = BeautifulSoup(xml)\n",
    "    # tab na pocetku\n",
    "    return [document.text.rstrip('\\t') for document in bs.findAll('document')]\n",
    "\n",
    "\n",
    "def remove_special_data(text):\n",
    "    text = URL_REGEX.sub(URL_TAG, text)\n",
    "    text = REPLY_REGEX.sub(REPLY_TAG, text)\n",
    "    return text\n",
    "\n",
    "def preprocess_tweet(line):\n",
    "    return remove_special_data(line).lower()"
   ]
  },
  {
   "cell_type": "code",
   "execution_count": 3,
   "metadata": {
    "collapsed": false
   },
   "outputs": [
    {
     "name": "stdout",
     "output_type": "stream",
     "text": [
      "URL test test\n"
     ]
    }
   ],
   "source": [
    "# test regex\n",
    "line= r'http://www.blabla/test/123 test test'\n",
    "print URL_REGEX.sub('URL', line)"
   ]
  },
  {
   "cell_type": "markdown",
   "metadata": {},
   "source": [
    "Strukture za pohranu dataseta"
   ]
  },
  {
   "cell_type": "code",
   "execution_count": 4,
   "metadata": {
    "collapsed": false
   },
   "outputs": [],
   "source": [
    "LABELS = ['userid', 'gender', 'age_group',\n",
    "          'extroverted', 'stable', 'agreeable',\n",
    "          'conscientious', 'open']\n",
    "TYPES = ['string'] * 3 + ['float'] * 5\n",
    "\n",
    "''' User class used to store parsed data'''\n",
    "class User(object):\n",
    "\n",
    "    def __init__(self, line):\n",
    "        self.labels = LABELS\n",
    "\n",
    "        parts = map(str.strip, line.split(FIELDS_DELIMITER))\n",
    "        if len(parts) == 1:\n",
    "            parts = [parts[0]] + [''] * 7\n",
    "\n",
    "        self.userid = parts[0]\n",
    "        self.gender = parts[1]\n",
    "        self.age_group = parts[2]\n",
    "\n",
    "        self.extroverted = float(parts[3])\n",
    "        self.stable = float(parts[4])\n",
    "        self.agreeable = float(parts[5])\n",
    "        self.conscientious = float(parts[6])\n",
    "        self.open = float(parts[7])\n",
    "        self.documents = []\n",
    "\n",
    "    def user_details(self):\n",
    "        return [self.userid, self.gender,\n",
    "                self.age_group, self.extroverted, self.stable,\n",
    "                self.agreeable, self.conscientious, self.open]\n",
    "\n",
    "    def user_documents(self):\n",
    "        return self.documents\n",
    "\n",
    "\n",
    "\n"
   ]
  },
  {
   "cell_type": "code",
   "execution_count": 5,
   "metadata": {
    "collapsed": true
   },
   "outputs": [],
   "source": [
    "TRUTH_FILE = 'truth.txt'\n",
    "FIELDS_DELIMITER = ':::'\n",
    "LABELS = ['userid', 'gender', 'age_group',\n",
    "          'extroverted', 'stable', 'agreeable',\n",
    "          'conscientious', 'open']\n",
    "\n",
    "'''Dataset wrapper - parses, cleans and stores user data (documents and truth)\n",
    "'''\n",
    "class Dataset(object):\n",
    "\n",
    "    def __init__(self, path):\n",
    "        if not os.path.exists(path) or not os.path.isdir(path):\n",
    "            raise Exception('No such dir ' + path)\n",
    "\n",
    "        self.path = path\n",
    "        self.users = {}\n",
    "        self.X = []\n",
    "        self.y = []\n",
    "        self.load()\n",
    "        self.labels = LABELS\n",
    "\n",
    "    def load(self):\n",
    "        user_files = filter(lambda name: name != TRUTH_FILE, os.listdir(self.path))\n",
    "        truth = os.path.join(self.path, TRUTH_FILE)\n",
    "        assert os.path.isfile(truth)\n",
    "\n",
    "        # load truth\n",
    "        with open(truth, 'r') as f:\n",
    "            for line in f:\n",
    "                user = User(line)\n",
    "                self.users[user.userid] = user\n",
    "\n",
    "        # load texts\n",
    "        for path in user_files:\n",
    "            user = os.path.splitext(path)[0]\n",
    "            path = os.path.join(self.path, path)\n",
    "\n",
    "            with open(path, 'r') as xml:\n",
    "                content = extract_from_xml(xml.read())\n",
    "                if not self.users.has_key(user):\n",
    "                    self.users[user] = User(user)\n",
    "                self.users[user].documents = map(preprocess_tweet, content)\n",
    "\n",
    "    def store_as_samples(self):\n",
    "        for id, user in self.users.items():\n",
    "            self.X.append('\\n'.join(user.documents))\n",
    "            self.y.append(np.array(user.user_details()))\n",
    "\n",
    "        self.X = np.array(self.X)\n",
    "        self.y = np.array(self.y)\n",
    "\n",
    "    def get_samples(self, feature='all'):\n",
    "        if feature == 'all':\n",
    "            return self.X, self.y\n",
    "\n",
    "        feature_col = [i for i, lab in enumerate(self.labels) if lab == feature]\n",
    "        if len(feature_col):\n",
    "            feature_col = feature_col[0]\n",
    "        else:\n",
    "            raise Exception('Invalid feature %s\\nValid features %s' %\n",
    "                            (feature, ', '.join(self.labels)))\n",
    "\n",
    "        return self.X, self.y[:, feature_col]\n",
    "\n"
   ]
  },
  {
   "cell_type": "markdown",
   "metadata": {},
   "source": [
    "Pomocni razredi"
   ]
  },
  {
   "cell_type": "code",
   "execution_count": 6,
   "metadata": {
    "collapsed": true
   },
   "outputs": [],
   "source": [
    "from sklearn.base import TransformerMixin\n",
    "'''Transformes sparse matrix to dense - ex. for NaiveBayes'''\n",
    "class DenseTransformer(TransformerMixin):\n",
    "\n",
    "    def transform(self, X, y=None, **fit_params):\n",
    "        return X.todense()\n",
    "\n",
    "    def fit_transform(self, X, y=None, **fit_params):\n",
    "        self.fit(X, y, **fit_params)\n",
    "        return self.transform(X)\n",
    "\n",
    "    def fit(self, X, y=None, **fit_params):\n",
    "        return self"
   ]
  },
  {
   "cell_type": "code",
   "execution_count": 7,
   "metadata": {
    "collapsed": false
   },
   "outputs": [],
   "source": [
    "#simple demo\n",
    "\n",
    "dataset_path = './dataset/english'\n",
    "d = Dataset(dataset_path)\n",
    "d.store_as_samples() #transforme data to X, y\n",
    "\n",
    "X, y = d.get_samples('age_group')\n"
   ]
  },
  {
   "cell_type": "code",
   "execution_count": 8,
   "metadata": {
    "collapsed": false
   },
   "outputs": [
    {
     "name": "stdout",
     "output_type": "stream",
     "text": [
      "SVC training score 0.993421052632\n",
      "Bayes training score 1.0\n"
     ]
    }
   ],
   "source": [
    "from sklearn.feature_extraction.text import TfidfVectorizer\n",
    "from sklearn.svm import LinearSVC\n",
    "from sklearn.naive_bayes import  GaussianNB\n",
    "from sklearn.pipeline import  Pipeline \n",
    "\n",
    "\n",
    "vectorize = TfidfVectorizer(analyzer='char', ngram_range=(3,3))\n",
    "svcPipe = Pipeline([('vectorize', vectorize), ('densen', DenseTransformer()), ('svc', LinearSVC())])\n",
    "bayesPipe = Pipeline([('vectorize', vectorize), ('densen', DenseTransformer()), ('bayes', GaussianNB())])\n",
    "\n",
    "svcPipe.fit(X, y)\n",
    "print 'SVC training score %s' % svcPipe.score(X, y)\n",
    "                    \n",
    "\n",
    "bayesPipe.fit(X, y)\n",
    "print 'Bayes training score %s' % bayesPipe.score(X, y)\n",
    "\n",
    "# without pipeline\n",
    "#vectorize = TfidfVectorizer(analyzer='char', ngram_range=(3,3))\n",
    "#X = vectorize.fit_transform(X)\n",
    "#model = LinearSVC()\n",
    "#model.fit(X,y)\n",
    "#print model.score(X, y)"
   ]
  },
  {
   "cell_type": "code",
   "execution_count": 9,
   "metadata": {
    "collapsed": true
   },
   "outputs": [],
   "source": [
    "# below code taken and adapted from example\n",
    "# @ http://scikit-learn.org/stable/auto_examples/plot_learning_curve.html\n",
    "from sklearn.learning_curve import learning_curve\n",
    "def plot_learning_curve(estimator, title, X, y, ylim=None, cv=None, n_jobs=-1, train_sizes=np.linspace(.1, 1.0, 10)):\n",
    "    \"\"\"\n",
    "    Generate a simple plot of the test and traning learning curve.\n",
    "\n",
    "    Parameters\n",
    "    ----------\n",
    "    estimator : object type that implements the \"fit\" and \"predict\" methods\n",
    "        An object of that type which is cloned for each validation.\n",
    "\n",
    "    title : string\n",
    "        Title for the chart.\n",
    "\n",
    "    X : array-like, shape (n_samples, n_features)\n",
    "        Training vector, where n_samples is the number of samples and\n",
    "        n_features is the number of features.\n",
    "\n",
    "    y : array-like, shape (n_samples) or (n_samples, n_features), optional\n",
    "        Target relative to X for classification or regression;\n",
    "        None for unsupervised learning.\n",
    "\n",
    "    ylim : tuple, shape (ymin, ymax), optional\n",
    "        Defines minimum and maximum yvalues plotted.\n",
    "\n",
    "    cv : integer, cross-validation generator, optional\n",
    "        If an integer is passed, it is the number of folds (defaults to 3).\n",
    "        Specific cross-validation objects can be passed, see\n",
    "        sklearn.cross_validation module for the list of possible objects\n",
    "\n",
    "    n_jobs : integer, optional\n",
    "        Number of jobs to run in parallel (default 1).\n",
    "    \"\"\"\n",
    "    plt.figure()\n",
    "    plt.title(title)\n",
    "    if ylim is not None:\n",
    "        plt.ylim(*ylim)\n",
    "    plt.xlabel(\"Training examples\")\n",
    "    plt.ylabel(\"Score\")\n",
    "    train_sizes, train_scores, test_scores = learning_curve(estimator, X, y, cv=cv, n_jobs=n_jobs, train_sizes=train_sizes)\n",
    "    train_scores_mean = np.mean(train_scores, axis=1)\n",
    "    train_scores_std = np.std(train_scores, axis=1)\n",
    "    test_scores_mean = np.mean(test_scores, axis=1)\n",
    "    test_scores_std = np.std(test_scores, axis=1)\n",
    "    plt.grid()\n",
    "\n",
    "    plt.fill_between(train_sizes, train_scores_mean - train_scores_std,\n",
    "                     train_scores_mean + train_scores_std, alpha=0.1,\n",
    "                     color=\"r\")\n",
    "    plt.fill_between(train_sizes, test_scores_mean - test_scores_std,\n",
    "                     test_scores_mean + test_scores_std, alpha=0.1, color=\"g\")\n",
    "    plt.plot(train_sizes, train_scores_mean, 'o-', color=\"r\",\n",
    "             label=\"Training score\")\n",
    "    plt.plot(train_sizes, test_scores_mean, 'o-', color=\"g\",\n",
    "             label=\"Cross-validation score\")\n",
    "\n",
    "    plt.legend(loc=\"best\")\n",
    "    return plt"
   ]
  },
  {
   "cell_type": "code",
   "execution_count": 27,
   "metadata": {
    "collapsed": false
   },
   "outputs": [],
   "source": [
    "from sklearn.grid_search import GridSearchCV\n",
    "from sklearn.cross_validation import train_test_split\n",
    "from sklearn.metrics import f1_score, precision_score, recall_score, confusion_matrix,precision_recall_curve, mean_squared_error\n",
    "\n",
    "\n",
    "#TODO jos dodati ovaj precision_recall_curve, pokazivali na predavanjima cini se korisno\n",
    "def printScore(y_true,y_pred,average='micro',pos_label=None):\n",
    "    print average+\" scores:\"\n",
    "    print \"\\t P  = %s\" % precision_score(y_true,y_pred,average=average,pos_label=pos_label)\n",
    "    print \"\\t R  = %s\" % recall_score(y_true,y_pred,average=average,pos_label=pos_label)\n",
    "    print \"\\t F1 = %s\" % f1_score(y_true,y_pred,average=average,pos_label=pos_label)\n",
    "        \n",
    "\n",
    "\n",
    "def modelEvaluator(X, y, model, parameters, classifier = True, scoring = None, num_flods = 3,test_size = 0.3,ylim=None,train_sizes_lncurv=np.linspace(.1, 1.0, 10)):\n",
    "   \n",
    "    X_train, X_test, y_train, y_test = train_test_split(X, y, test_size=test_size, random_state=42)\n",
    "    \n",
    "    grid_cv = GridSearchCV( model, parameters, scoring = scoring, n_jobs = -1, verbose = 1, cv = num_flods)\n",
    "    grid_cv.fit(X_train,y_train)\n",
    "    \n",
    "    print 'Model best_params: %s' % grid_cv.best_params_\n",
    "    estimator = grid_cv.best_estimator_\n",
    "    print 'Model score : %s' % estimator.score(X_test,y_test)\n",
    "    \n",
    "    y_pred = estimator.predict(X_test)\n",
    "        \n",
    "    #TODO trebaju biti binarne, problem onda treba minjati OVO i OVR \n",
    "    #precision, recall, _ = precision_recall_curve(y_test.ravel(), y_pred.ravel())\n",
    "    #plt.plot(precision,recall)\n",
    "    \n",
    "    if classifier == True:\n",
    "            print \"Confusion matrix:\\n %s\" % confusion_matrix(y_test,y_pred)\n",
    "            if len(set(y)) == 2:\n",
    "                printScore(y_test,y_pred,'binary',list(set(y))[0])\n",
    "            else:\n",
    "                printScore(y_test,y_pred,'macro')\n",
    "                printScore(y_test,y_pred) \n",
    "            plot_learning_curve(estimator, \"Test\", X, y,  ylim=ylim, cv=num_flods,train_sizes=train_sizes_lncurv)\n",
    "    else:\n",
    "        print 'RMSE: ', sqrt(mean_squared_error(estimator.predict(X_test), y_test))\n",
    "    return estimator"
   ]
  },
  {
   "cell_type": "code",
   "execution_count": 11,
   "metadata": {
    "collapsed": false
   },
   "outputs": [
    {
     "name": "stdout",
     "output_type": "stream",
     "text": [
      "Fitting 3 folds for each of 20 candidates, totalling 60 fits\n"
     ]
    },
    {
     "name": "stderr",
     "output_type": "stream",
     "text": [
      "[Parallel(n_jobs=-1)]: Done   1 jobs       | elapsed:    0.1s\n",
      "[Parallel(n_jobs=-1)]: Done  50 jobs       | elapsed:    1.5s\n",
      "[Parallel(n_jobs=-1)]: Done  46 out of  60 | elapsed:    1.9s remaining:    0.6s\n",
      "[Parallel(n_jobs=-1)]: Done  60 out of  60 | elapsed:    2.2s finished\n"
     ]
    },
    {
     "name": "stdout",
     "output_type": "stream",
     "text": [
      "Model best_params: {'kernel': 'linear', 'C': 111.11200000000001}\n",
      "Model acc : 0.97962962963\n",
      "Confusion matrix:\n",
      " [[53  0  0  0  0  0  0  0  0  0]\n",
      " [ 0 49  0  0  0  0  0  0  1  0]\n",
      " [ 0  0 47  0  0  0  0  0  0  0]\n",
      " [ 0  0  1 52  0  1  0  0  0  0]\n",
      " [ 0  1  0  0 59  0  0  0  0  0]\n",
      " [ 0  0  0  0  0 64  0  1  0  1]\n",
      " [ 0  0  0  0  0  0 53  0  0  0]\n",
      " [ 0  0  0  0  0  0  0 54  0  1]\n",
      " [ 0  0  0  0  0  1  0  0 42  0]\n",
      " [ 0  0  0  0  1  0  0  1  1 56]]\n",
      "macro scores:\n",
      "\t P  = 0.979654537991\n",
      "\t R  = 0.980370817623\n",
      "\t F1 = 0.979939123433\n",
      "micro scores:\n",
      "\t P  = 0.97962962963\n",
      "\t R  = 0.97962962963\n",
      "\t F1 = 0.97962962963\n"
     ]
    },
    {
     "data": {
      "image/png": "[encoded data removed]",
      "text/plain": [
       "<matplotlib.figure.Figure at 0x7f79ceee9ed0>"
      ]
     },
     "metadata": {},
     "output_type": "display_data"
    }
   ],
   "source": [
    "from sklearn.datasets import load_digits\n",
    "from sklearn import svm\n",
    "from sklearn.preprocessing import label_binarize\n",
    "\n",
    "\n",
    "digits = load_digits()\n",
    "X, y = digits.data, digits.target\n",
    "\n",
    "parameters = {'kernel':('linear', 'rbf'), 'C':linspace(0.001, 1000,10)}\n",
    "model = svm.SVC()\n",
    "modelEvaluator(X, y, model, parameters)"
   ]
  },
  {
   "cell_type": "code",
   "execution_count": 12,
   "metadata": {
    "collapsed": false
   },
   "outputs": [
    {
     "name": "stdout",
     "output_type": "stream",
     "text": [
      "Fitting 10 folds for each of 100 candidates, totalling 1000 fits\n"
     ]
    },
    {
     "name": "stderr",
     "output_type": "stream",
     "text": [
      "[Parallel(n_jobs=-1)]: Done   1 jobs       | elapsed:    0.1s\n",
      "[Parallel(n_jobs=-1)]: Done  50 jobs       | elapsed:    1.1s\n",
      "[Parallel(n_jobs=-1)]: Done 200 jobs       | elapsed:    4.7s\n",
      "[Parallel(n_jobs=-1)]: Done 450 jobs       | elapsed:   12.8s\n",
      "[Parallel(n_jobs=-1)]: Done 800 jobs       | elapsed:   27.2s\n",
      "[Parallel(n_jobs=-1)]: Done 986 out of 1000 | elapsed:   36.3s remaining:    0.5s\n",
      "[Parallel(n_jobs=-1)]: Done 1000 out of 1000 | elapsed:   36.9s finished\n"
     ]
    },
    {
     "name": "stdout",
     "output_type": "stream",
     "text": [
      "Model best_params: {'C': 3.3636363636363638}\n",
      "Model acc : 0.652173913043\n",
      "Confusion matrix:\n",
      " [[16 14]\n",
      " [ 2 14]]\n",
      "binary scores:\n",
      "\t P  = 0.5\n",
      "\t R  = 0.875\n",
      "\t F1 = 0.636363636364\n",
      "Fitting 10 folds for each of 400 candidates, totalling 4000 fits\n"
     ]
    },
    {
     "name": "stderr",
     "output_type": "stream",
     "text": [
      "[Parallel(n_jobs=-1)]: Done   1 jobs       | elapsed:    0.3s\n",
      "[Parallel(n_jobs=-1)]: Done  50 jobs       | elapsed:    2.2s\n",
      "[Parallel(n_jobs=-1)]: Done 200 jobs       | elapsed:    7.9s\n",
      "[Parallel(n_jobs=-1)]: Done 450 jobs       | elapsed:   17.8s\n",
      "[Parallel(n_jobs=-1)]: Done 800 jobs       | elapsed:   31.6s\n",
      "[Parallel(n_jobs=-1)]: Done 1250 jobs       | elapsed:   49.2s\n",
      "[Parallel(n_jobs=-1)]: Done 1800 jobs       | elapsed:  1.2min\n",
      "[Parallel(n_jobs=-1)]: Done 2450 jobs       | elapsed:  1.6min\n",
      "[Parallel(n_jobs=-1)]: Done 3200 jobs       | elapsed:  2.1min\n",
      "[Parallel(n_jobs=-1)]: Done 3986 out of 4000 | elapsed:  2.5min remaining:    0.5s\n",
      "[Parallel(n_jobs=-1)]: Done 4000 out of 4000 | elapsed:  2.6min finished\n"
     ]
    },
    {
     "name": "stdout",
     "output_type": "stream",
     "text": [
      "Model best_params: {'kernel': 'linear', 'C': 21.181818181818183}\n",
      "Model acc : 0.717391304348\n",
      "Confusion matrix:\n",
      " [[19 11]\n",
      " [ 2 14]]\n",
      "binary scores:\n",
      "\t P  = 0.56\n",
      "\t R  = 0.875\n",
      "\t F1 = 0.682926829268\n"
     ]
    },
    {
     "data": {
      "image/png": "[encoded data removed]",
      "text/plain": [
       "<matplotlib.figure.Figure at 0x7f79968d8050>"
      ]
     },
     "metadata": {},
     "output_type": "display_data"
    },
    {
     "data": {
      "image/png": "[encoded data removed]",
      "text/plain": [
       "<matplotlib.figure.Figure at 0x7f79968f8190>"
      ]
     },
     "metadata": {},
     "output_type": "display_data"
    }
   ],
   "source": [
    "from sklearn.feature_extraction.text import TfidfVectorizer\n",
    "from sklearn.svm import LinearSVC, SVC\n",
    "from sklearn.naive_bayes import  GaussianNB\n",
    "from sklearn.pipeline import  Pipeline \n",
    "from sklearn.tree import DecisionTreeClassifier\n",
    "from sklearn.ensemble import RandomForestClassifier\n",
    "from sklearn.linear_model import LogisticRegression\n",
    "\n",
    "vectorize = TfidfVectorizer(analyzer='char', ngram_range=(3,3))\n",
    "#svcPipe = Pipeline([('vectorize', vectorize), ('svc', SVC())])\n",
    "#bayesPipe = Pipeline([('vectorize', vectorize), ('densen', DenseTransformer()), ('bayes', GaussianNB())])\n",
    "\n",
    "parameters = { 'C':linspace(1, 10,100)}\n",
    "X, y = d.get_samples('gender')\n",
    "\n",
    "\n",
    "vectorize = TfidfVectorizer(analyzer='char', ngram_range=(3,3))\n",
    "Xvec = vectorize.fit_transform(X)\n",
    "modelEvaluator(Xvec, y, LinearSVC(), parameters,num_flods=10)\n",
    "#modelEvaluator(Xvec, y, LogisticRegression(), parameters,num_flods=10)\n",
    "\n",
    "\n",
    "parameters = {'kernel':('linear', 'rbf','poly','sigmoid'), 'C':linspace(1, 1000,100)}\n",
    "modelEvaluator(Xvec, y, SVC(), parameters,num_flods=10)\n",
    "\n",
    "#parameters = {}\n",
    "#modelEvaluator(Xvec, y, RandomForestClassifier(), parameters,num_flods=10)\n",
    "#modelEvaluator(Xvec, y, DecisionTreeClassifier(), parameters,num_flods=10)\n"
   ]
  },
  {
   "cell_type": "code",
   "execution_count": 26,
   "metadata": {
    "collapsed": false,
    "scrolled": true
   },
   "outputs": [
    {
     "name": "stdout",
     "output_type": "stream",
     "text": [
      "Fitting 10 folds for each of 1 candidates, totalling 10 fits\n"
     ]
    },
    {
     "name": "stderr",
     "output_type": "stream",
     "text": [
      "[Parallel(n_jobs=-1)]: Done   1 out of  10 | elapsed:    0.3s remaining:    2.3s\n",
      "[Parallel(n_jobs=-1)]: Done   7 out of  10 | elapsed:    0.3s remaining:    0.1s\n",
      "[Parallel(n_jobs=-1)]: Done  10 out of  10 | elapsed:    0.4s finished\n"
     ]
    },
    {
     "name": "stdout",
     "output_type": "stream",
     "text": [
      "Model best_params: {}\n",
      "Model acc : -0.000199672749627\n",
      "RMSE:  0.163854996947\n",
      "Fitting 10 folds for each of 1 candidates, totalling 10 fits\n"
     ]
    },
    {
     "name": "stderr",
     "output_type": "stream",
     "text": [
      "[Parallel(n_jobs=-1)]: Done   1 out of  10 | elapsed:    0.5s remaining:    4.9s\n",
      "[Parallel(n_jobs=-1)]: Done   7 out of  10 | elapsed:    0.6s remaining:    0.2s\n",
      "[Parallel(n_jobs=-1)]: Done  10 out of  10 | elapsed:    0.9s finished\n"
     ]
    },
    {
     "name": "stdout",
     "output_type": "stream",
     "text": [
      "Model best_params: {}\n",
      "Model acc : -0.158098591549\n",
      "RMSE:  0.176314935617\n",
      "Fitting 10 folds for each of 1 candidates, totalling 10 fits\n"
     ]
    },
    {
     "name": "stderr",
     "output_type": "stream",
     "text": [
      "[Parallel(n_jobs=-1)]: Done   1 out of  10 | elapsed:    2.6s remaining:   23.2s\n",
      "[Parallel(n_jobs=-1)]: Done   7 out of  10 | elapsed:    2.7s remaining:    1.1s\n",
      "[Parallel(n_jobs=-1)]: Done  10 out of  10 | elapsed:    4.1s finished\n"
     ]
    },
    {
     "name": "stdout",
     "output_type": "stream",
     "text": [
      "Model best_params: {}\n",
      "Model acc : 0.0582957746479\n",
      "RMSE:  0.158991386149\n",
      "Fitting 10 folds for each of 400 candidates, totalling 4000 fits\n"
     ]
    },
    {
     "name": "stderr",
     "output_type": "stream",
     "text": [
      "[Parallel(n_jobs=-1)]: Done   1 jobs       | elapsed:    0.2s\n",
      "[Parallel(n_jobs=-1)]: Done  50 jobs       | elapsed:    1.2s\n",
      "[Parallel(n_jobs=-1)]: Done 200 jobs       | elapsed:    4.1s\n",
      "[Parallel(n_jobs=-1)]: Done 450 jobs       | elapsed:    9.0s\n",
      "[Parallel(n_jobs=-1)]: Done 800 jobs       | elapsed:   15.7s\n",
      "[Parallel(n_jobs=-1)]: Done 1250 jobs       | elapsed:   24.4s\n",
      "[Parallel(n_jobs=-1)]: Done 1800 jobs       | elapsed:   34.9s\n",
      "[Parallel(n_jobs=-1)]: Done 2450 jobs       | elapsed:   47.5s\n",
      "[Parallel(n_jobs=-1)]: Done 3200 jobs       | elapsed:  1.1min\n",
      "[Parallel(n_jobs=-1)]: Done 3986 out of 4000 | elapsed:  1.3min remaining:    0.3s\n",
      "[Parallel(n_jobs=-1)]: Done 4000 out of 4000 | elapsed:  1.3min finished\n"
     ]
    },
    {
     "name": "stdout",
     "output_type": "stream",
     "text": [
      "Model best_params: {'kernel': 'linear', 'C': 0.71636363636363631}\n",
      "Model acc : 0.0488264699987\n",
      "RMSE:  0.159788755433\n"
     ]
    },
    {
     "data": {
      "text/plain": [
       "SVR(C=0.71636363636363631, cache_size=200, coef0=0.0, degree=3, epsilon=0.1,\n",
       "  gamma=0.0, kernel='linear', max_iter=-1, shrinking=True, tol=0.001,\n",
       "  verbose=False)"
      ]
     },
     "execution_count": 26,
     "metadata": {},
     "output_type": "execute_result"
    }
   ],
   "source": [
    "from sklearn.linear_model import LinearRegression\n",
    "from sklearn.tree import DecisionTreeRegressor\n",
    "from sklearn.ensemble import RandomForestRegressor\n",
    "from sklearn.svm import SVR\n",
    "from sklearn.metrics import mean_squared_error\n",
    "\n",
    "\n",
    "vectorize = TfidfVectorizer(analyzer='char', ngram_range=(3,3))\n",
    "\n",
    "parameters = {}\n",
    "X, y = d.get_samples('extroverted')\n",
    "y = np.array(y, dtype=float)\n",
    "vectorize = TfidfVectorizer(analyzer='char', ngram_range=(3,3))\n",
    "Xvec = vectorize.fit_transform(X)\n",
    "model = modelEvaluator(Xvec, y, LinearRegression(), parameters,num_flods=10,scoring='mean_squared_error',classifier=False)\n",
    "modelEvaluator(Xvec, y, DecisionTreeRegressor(), parameters,num_flods=10,scoring='mean_squared_error',classifier=False)\n",
    "modelEvaluator(Xvec, y, RandomForestRegressor(), parameters,num_flods=10,scoring='mean_squared_error',classifier=False)\n",
    "parameters = {'kernel':('linear', 'rbf','poly','sigmoid'), 'C':linspace(0.01, 10,100)}\n",
    "modelEvaluator(Xvec, y, SVR(), parameters,num_flods=10,scoring='mean_squared_error',classifier=False)\n"
   ]
  },
  {
   "cell_type": "code",
   "execution_count": 28,
   "metadata": {
    "collapsed": false
   },
   "outputs": [
    {
     "name": "stdout",
     "output_type": "stream",
     "text": [
      "Fitting 10 folds for each of 1 candidates, totalling 10 fits\n"
     ]
    },
    {
     "name": "stderr",
     "output_type": "stream",
     "text": [
      "[Parallel(n_jobs=-1)]: Done   1 out of  10 | elapsed:    0.3s remaining:    2.4s\n",
      "[Parallel(n_jobs=-1)]: Done   7 out of  10 | elapsed:    0.3s remaining:    0.1s\n",
      "[Parallel(n_jobs=-1)]: Done  10 out of  10 | elapsed:    0.4s finished\n"
     ]
    },
    {
     "name": "stdout",
     "output_type": "stream",
     "text": [
      "Model best_params: {}\n",
      "Model score : 0.362852910872\n",
      "RMSE:  0.185314612057\n",
      "Fitting 10 folds for each of 1 candidates, totalling 10 fits\n"
     ]
    },
    {
     "name": "stderr",
     "output_type": "stream",
     "text": [
      "[Parallel(n_jobs=-1)]: Done   1 jobs       | elapsed:    0.5s\n",
      "[Parallel(n_jobs=-1)]: Done   7 out of  10 | elapsed:    0.6s remaining:    0.2s\n",
      "[Parallel(n_jobs=-1)]: Done  10 out of  10 | elapsed:    0.9s finished\n"
     ]
    },
    {
     "name": "stdout",
     "output_type": "stream",
     "text": [
      "Model best_params: {}\n",
      "Model score : -0.689960543621\n",
      "RMSE:  0.301806157197\n",
      "Fitting 10 folds for each of 1 candidates, totalling 10 fits\n"
     ]
    },
    {
     "name": "stderr",
     "output_type": "stream",
     "text": [
      "[Parallel(n_jobs=-1)]: Done   7 out of  10 | elapsed:    2.8s remaining:    1.2s\n",
      "[Parallel(n_jobs=-1)]: Done   1 out of  10 | elapsed:    2.8s remaining:   25.6s\n",
      "[Parallel(n_jobs=-1)]: Done  10 out of  10 | elapsed:    4.4s finished\n"
     ]
    },
    {
     "name": "stdout",
     "output_type": "stream",
     "text": [
      "Model best_params: {}\n",
      "Model score : -0.105895659798\n",
      "RMSE:  0.244144468991\n",
      "Fitting 10 folds for each of 400 candidates, totalling 4000 fits\n"
     ]
    },
    {
     "name": "stderr",
     "output_type": "stream",
     "text": [
      "[Parallel(n_jobs=-1)]: Done   1 jobs       | elapsed:    0.2s\n",
      "[Parallel(n_jobs=-1)]: Done  50 jobs       | elapsed:    1.5s\n",
      "[Parallel(n_jobs=-1)]: Done 200 jobs       | elapsed:    5.3s\n",
      "[Parallel(n_jobs=-1)]: Done 450 jobs       | elapsed:   11.6s\n",
      "[Parallel(n_jobs=-1)]: Done 800 jobs       | elapsed:   20.6s\n",
      "[Parallel(n_jobs=-1)]: Done 1250 jobs       | elapsed:   31.9s\n",
      "[Parallel(n_jobs=-1)]: Done 1800 jobs       | elapsed:   45.2s\n",
      "[Parallel(n_jobs=-1)]: Done 2450 jobs       | elapsed:  1.0min\n",
      "[Parallel(n_jobs=-1)]: Done 3200 jobs       | elapsed:  1.3min\n",
      "[Parallel(n_jobs=-1)]: Done 3986 out of 4000 | elapsed:  1.6min remaining:    0.3s\n",
      "[Parallel(n_jobs=-1)]: Done 4000 out of 4000 | elapsed:  1.7min finished\n"
     ]
    },
    {
     "name": "stdout",
     "output_type": "stream",
     "text": [
      "Model best_params: {'kernel': 'linear', 'C': 0.81727272727272726}\n",
      "Model score : 0.299059110165\n",
      "RMSE:  0.194370571188\n"
     ]
    },
    {
     "data": {
      "text/plain": [
       "SVR(C=0.81727272727272726, cache_size=200, coef0=0.0, degree=3, epsilon=0.1,\n",
       "  gamma=0.0, kernel='linear', max_iter=-1, shrinking=True, tol=0.001,\n",
       "  verbose=False)"
      ]
     },
     "execution_count": 28,
     "metadata": {},
     "output_type": "execute_result"
    }
   ],
   "source": [
    "vectorize = TfidfVectorizer(analyzer='char', ngram_range=(3,3))\n",
    "\n",
    "parameters = {}\n",
    "X, y = d.get_samples('stable')\n",
    "y = np.array(y, dtype=float)\n",
    "vectorize = TfidfVectorizer(analyzer='char', ngram_range=(3,3))\n",
    "Xvec = vectorize.fit_transform(X)\n",
    "model = modelEvaluator(Xvec, y, LinearRegression(), parameters,num_flods=10,scoring='mean_squared_error',classifier=False)\n",
    "modelEvaluator(Xvec, y, DecisionTreeRegressor(), parameters,num_flods=10,scoring='mean_squared_error',classifier=False)\n",
    "modelEvaluator(Xvec, y, RandomForestRegressor(), parameters,num_flods=10,scoring='mean_squared_error',classifier=False)\n",
    "parameters = {'kernel':('linear', 'rbf','poly','sigmoid'), 'C':linspace(0.01, 10,100)}\n",
    "modelEvaluator(Xvec, y, SVR(), parameters,num_flods=10,scoring='mean_squared_error',classifier=False)"
   ]
  },
  {
   "cell_type": "code",
   "execution_count": 29,
   "metadata": {
    "collapsed": false
   },
   "outputs": [
    {
     "name": "stdout",
     "output_type": "stream",
     "text": [
      "Fitting 10 folds for each of 1 candidates, totalling 10 fits\n"
     ]
    },
    {
     "name": "stderr",
     "output_type": "stream",
     "text": [
      "[Parallel(n_jobs=-1)]: Done   1 jobs       | elapsed:    0.2s\n",
      "[Parallel(n_jobs=-1)]: Done   7 out of  10 | elapsed:    0.4s remaining:    0.2s\n",
      "[Parallel(n_jobs=-1)]: Done  10 out of  10 | elapsed:    0.4s finished\n"
     ]
    },
    {
     "name": "stdout",
     "output_type": "stream",
     "text": [
      "Model best_params: {}\n",
      "Model score : 0.0665931306101\n",
      "RMSE:  0.170226549326\n",
      "Fitting 10 folds for each of 1 candidates, totalling 10 fits\n"
     ]
    },
    {
     "name": "stderr",
     "output_type": "stream",
     "text": [
      "[Parallel(n_jobs=-1)]: Done   7 out of  10 | elapsed:    0.5s remaining:    0.2s\n",
      "[Parallel(n_jobs=-1)]: Done   1 out of  10 | elapsed:    0.5s remaining:    4.7s\n",
      "[Parallel(n_jobs=-1)]: Done  10 out of  10 | elapsed:    0.8s finished\n"
     ]
    },
    {
     "name": "stdout",
     "output_type": "stream",
     "text": [
      "Model best_params: {}\n",
      "Model score : -0.624600395798\n",
      "RMSE:  0.224576896872\n",
      "Fitting 10 folds for each of 1 candidates, totalling 10 fits\n"
     ]
    },
    {
     "name": "stderr",
     "output_type": "stream",
     "text": [
      "[Parallel(n_jobs=-1)]: Done   1 out of  10 | elapsed:    2.5s remaining:   22.1s\n",
      "[Parallel(n_jobs=-1)]: Done   7 out of  10 | elapsed:    2.5s remaining:    1.1s\n",
      "[Parallel(n_jobs=-1)]: Done  10 out of  10 | elapsed:    4.8s finished\n"
     ]
    },
    {
     "name": "stdout",
     "output_type": "stream",
     "text": [
      "Model best_params: {}\n",
      "Model score : 0.00199117065002\n",
      "RMSE:  0.176018773702\n",
      "Fitting 10 folds for each of 400 candidates, totalling 4000 fits\n"
     ]
    },
    {
     "name": "stderr",
     "output_type": "stream",
     "text": [
      "[Parallel(n_jobs=-1)]: Done   1 jobs       | elapsed:    0.1s\n",
      "[Parallel(n_jobs=-1)]: Done  50 jobs       | elapsed:    1.0s\n",
      "[Parallel(n_jobs=-1)]: Done 200 jobs       | elapsed:    3.6s\n",
      "[Parallel(n_jobs=-1)]: Done 450 jobs       | elapsed:    8.0s\n",
      "[Parallel(n_jobs=-1)]: Done 800 jobs       | elapsed:   14.1s\n",
      "[Parallel(n_jobs=-1)]: Done 1250 jobs       | elapsed:   22.1s\n",
      "[Parallel(n_jobs=-1)]: Done 1800 jobs       | elapsed:   31.7s\n",
      "[Parallel(n_jobs=-1)]: Done 2450 jobs       | elapsed:   43.1s\n",
      "[Parallel(n_jobs=-1)]: Done 3200 jobs       | elapsed:   56.3s\n",
      "[Parallel(n_jobs=-1)]: Done 3986 out of 4000 | elapsed:  1.2min remaining:    0.2s\n",
      "[Parallel(n_jobs=-1)]: Done 4000 out of 4000 | elapsed:  1.2min finished\n"
     ]
    },
    {
     "name": "stdout",
     "output_type": "stream",
     "text": [
      "Model best_params: {'kernel': 'linear', 'C': 0.1109090909090909}\n",
      "Model score : -0.0811495178509\n",
      "RMSE:  0.183203884879\n"
     ]
    },
    {
     "data": {
      "text/plain": [
       "SVR(C=0.1109090909090909, cache_size=200, coef0=0.0, degree=3, epsilon=0.1,\n",
       "  gamma=0.0, kernel='linear', max_iter=-1, shrinking=True, tol=0.001,\n",
       "  verbose=False)"
      ]
     },
     "execution_count": 29,
     "metadata": {},
     "output_type": "execute_result"
    }
   ],
   "source": [
    "vectorize = TfidfVectorizer(analyzer='char', ngram_range=(3,3))\n",
    "\n",
    "parameters = {}\n",
    "X, y = d.get_samples('agreeable')\n",
    "y = np.array(y, dtype=float)\n",
    "vectorize = TfidfVectorizer(analyzer='char', ngram_range=(3,3))\n",
    "Xvec = vectorize.fit_transform(X)\n",
    "model = modelEvaluator(Xvec, y, LinearRegression(), parameters,num_flods=10,scoring='mean_squared_error',classifier=False)\n",
    "modelEvaluator(Xvec, y, DecisionTreeRegressor(), parameters,num_flods=10,scoring='mean_squared_error',classifier=False)\n",
    "modelEvaluator(Xvec, y, RandomForestRegressor(), parameters,num_flods=10,scoring='mean_squared_error',classifier=False)\n",
    "parameters = {'kernel':('linear', 'rbf','poly','sigmoid'), 'C':linspace(0.01, 10,100)}\n",
    "modelEvaluator(Xvec, y, SVR(), parameters,num_flods=10,scoring='mean_squared_error',classifier=False)"
   ]
  },
  {
   "cell_type": "code",
   "execution_count": 30,
   "metadata": {
    "collapsed": false
   },
   "outputs": [
    {
     "name": "stdout",
     "output_type": "stream",
     "text": [
      "Fitting 10 folds for each of 1 candidates, totalling 10 fits\n"
     ]
    },
    {
     "name": "stderr",
     "output_type": "stream",
     "text": [
      "[Parallel(n_jobs=-1)]: Done   1 jobs       | elapsed:    0.2s\n",
      "[Parallel(n_jobs=-1)]: Done   7 out of  10 | elapsed:    0.3s remaining:    0.1s\n",
      "[Parallel(n_jobs=-1)]: Done  10 out of  10 | elapsed:    0.4s finished\n"
     ]
    },
    {
     "name": "stdout",
     "output_type": "stream",
     "text": [
      "Model best_params: {}\n",
      "Model score : 0.0633345643033\n",
      "RMSE:  0.156089477969\n",
      "Fitting 10 folds for each of 1 candidates, totalling 10 fits\n"
     ]
    },
    {
     "name": "stderr",
     "output_type": "stream",
     "text": [
      "[Parallel(n_jobs=-1)]: Done   1 jobs       | elapsed:    0.4s\n",
      "[Parallel(n_jobs=-1)]: Done   7 out of  10 | elapsed:    0.5s remaining:    0.2s\n",
      "[Parallel(n_jobs=-1)]: Done  10 out of  10 | elapsed:    0.7s finished\n"
     ]
    },
    {
     "name": "stdout",
     "output_type": "stream",
     "text": [
      "Model best_params: {}\n",
      "Model score : -1.08938953488\n",
      "RMSE:  0.23312620206\n",
      "Fitting 10 folds for each of 1 candidates, totalling 10 fits\n"
     ]
    },
    {
     "name": "stderr",
     "output_type": "stream",
     "text": [
      "[Parallel(n_jobs=-1)]: Done   1 jobs       | elapsed:    2.1s\n",
      "[Parallel(n_jobs=-1)]: Done   7 out of  10 | elapsed:    2.3s remaining:    1.0s\n",
      "[Parallel(n_jobs=-1)]: Done  10 out of  10 | elapsed:    3.6s finished\n"
     ]
    },
    {
     "name": "stdout",
     "output_type": "stream",
     "text": [
      "Model best_params: {}\n",
      "Model score : -0.121584302326\n",
      "RMSE:  0.170803726667\n",
      "Fitting 10 folds for each of 400 candidates, totalling 4000 fits\n"
     ]
    },
    {
     "name": "stderr",
     "output_type": "stream",
     "text": [
      "[Parallel(n_jobs=-1)]: Done   1 jobs       | elapsed:    0.2s\n",
      "[Parallel(n_jobs=-1)]: Done  50 jobs       | elapsed:    1.3s\n",
      "[Parallel(n_jobs=-1)]: Done 200 jobs       | elapsed:    4.8s\n",
      "[Parallel(n_jobs=-1)]: Done 450 jobs       | elapsed:   10.6s\n",
      "[Parallel(n_jobs=-1)]: Done 800 jobs       | elapsed:   18.7s\n",
      "[Parallel(n_jobs=-1)]: Done 1250 jobs       | elapsed:   29.5s\n",
      "[Parallel(n_jobs=-1)]: Done 1800 jobs       | elapsed:   42.3s\n",
      "[Parallel(n_jobs=-1)]: Done 2450 jobs       | elapsed:   57.4s\n",
      "[Parallel(n_jobs=-1)]: Done 3200 jobs       | elapsed:  1.2min\n",
      "[Parallel(n_jobs=-1)]: Done 3986 out of 4000 | elapsed:  1.5min remaining:    0.3s\n",
      "[Parallel(n_jobs=-1)]: Done 4000 out of 4000 | elapsed:  1.6min finished\n"
     ]
    },
    {
     "name": "stdout",
     "output_type": "stream",
     "text": [
      "Model best_params: {'kernel': 'linear', 'C': 0.31272727272727274}\n",
      "Model score : 0.00767046150402\n",
      "RMSE:  0.160660583705\n"
     ]
    },
    {
     "data": {
      "text/plain": [
       "SVR(C=0.31272727272727274, cache_size=200, coef0=0.0, degree=3, epsilon=0.1,\n",
       "  gamma=0.0, kernel='linear', max_iter=-1, shrinking=True, tol=0.001,\n",
       "  verbose=False)"
      ]
     },
     "execution_count": 30,
     "metadata": {},
     "output_type": "execute_result"
    }
   ],
   "source": [
    "vectorize = TfidfVectorizer(analyzer='char', ngram_range=(3,3))\n",
    "\n",
    "parameters = {}\n",
    "X, y = d.get_samples('conscientious')\n",
    "y = np.array(y, dtype=float)\n",
    "vectorize = TfidfVectorizer(analyzer='char', ngram_range=(3,3))\n",
    "Xvec = vectorize.fit_transform(X)\n",
    "model = modelEvaluator(Xvec, y, LinearRegression(), parameters,num_flods=10,scoring='mean_squared_error',classifier=False)\n",
    "modelEvaluator(Xvec, y, DecisionTreeRegressor(), parameters,num_flods=10,scoring='mean_squared_error',classifier=False)\n",
    "modelEvaluator(Xvec, y, RandomForestRegressor(), parameters,num_flods=10,scoring='mean_squared_error',classifier=False)\n",
    "parameters = {'kernel':('linear', 'rbf','poly','sigmoid'), 'C':linspace(0.01, 10,100)}\n",
    "modelEvaluator(Xvec, y, SVR(), parameters,num_flods=10,scoring='mean_squared_error',classifier=False)"
   ]
  },
  {
   "cell_type": "code",
   "execution_count": 32,
   "metadata": {
    "collapsed": false
   },
   "outputs": [
    {
     "name": "stdout",
     "output_type": "stream",
     "text": [
      "Fitting 10 folds for each of 1 candidates, totalling 10 fits\n"
     ]
    },
    {
     "name": "stderr",
     "output_type": "stream",
     "text": [
      "[Parallel(n_jobs=-1)]: Done   1 out of  10 | elapsed:    0.3s remaining:    2.5s\n",
      "[Parallel(n_jobs=-1)]: Done   7 out of  10 | elapsed:    0.3s remaining:    0.1s\n",
      "[Parallel(n_jobs=-1)]: Done  10 out of  10 | elapsed:    0.4s finished\n"
     ]
    },
    {
     "name": "stdout",
     "output_type": "stream",
     "text": [
      "Model best_params: {}\n",
      "Model score : 0.31321032023\n",
      "RMSE:  0.125866006313\n",
      "Fitting 10 folds for each of 1 candidates, totalling 10 fits\n"
     ]
    },
    {
     "name": "stderr",
     "output_type": "stream",
     "text": [
      "[Parallel(n_jobs=-1)]: Done   1 out of  10 | elapsed:    0.5s remaining:    4.1s\n",
      "[Parallel(n_jobs=-1)]: Done   7 out of  10 | elapsed:    0.6s remaining:    0.2s\n",
      "[Parallel(n_jobs=-1)]: Done  10 out of  10 | elapsed:    0.9s finished\n"
     ]
    },
    {
     "name": "stdout",
     "output_type": "stream",
     "text": [
      "Model best_params: {}\n",
      "Model score : -0.781192378611\n",
      "RMSE:  0.202699177408\n",
      "Fitting 10 folds for each of 1 candidates, totalling 10 fits\n"
     ]
    },
    {
     "name": "stderr",
     "output_type": "stream",
     "text": [
      "[Parallel(n_jobs=-1)]: Done   7 out of  10 | elapsed:    2.3s remaining:    1.0s\n",
      "[Parallel(n_jobs=-1)]: Done   1 out of  10 | elapsed:    2.3s remaining:   21.1s\n",
      "[Parallel(n_jobs=-1)]: Done  10 out of  10 | elapsed:    3.9s finished\n"
     ]
    },
    {
     "name": "stdout",
     "output_type": "stream",
     "text": [
      "Model best_params: {}\n",
      "Model score : -0.0539192788363\n",
      "RMSE:  0.15591943293\n",
      "Fitting 10 folds for each of 400 candidates, totalling 4000 fits\n"
     ]
    },
    {
     "name": "stderr",
     "output_type": "stream",
     "text": [
      "[Parallel(n_jobs=-1)]: Done   1 jobs       | elapsed:    0.2s\n",
      "[Parallel(n_jobs=-1)]: Done  50 jobs       | elapsed:    1.3s\n",
      "[Parallel(n_jobs=-1)]: Done 200 jobs       | elapsed:    4.6s\n",
      "[Parallel(n_jobs=-1)]: Done 450 jobs       | elapsed:   10.3s\n",
      "[Parallel(n_jobs=-1)]: Done 800 jobs       | elapsed:   17.9s\n",
      "[Parallel(n_jobs=-1)]: Done 1250 jobs       | elapsed:   28.1s\n",
      "[Parallel(n_jobs=-1)]: Done 1800 jobs       | elapsed:   40.3s\n",
      "[Parallel(n_jobs=-1)]: Done 2450 jobs       | elapsed:   55.0s\n",
      "[Parallel(n_jobs=-1)]: Done 3200 jobs       | elapsed:  1.2min\n",
      "[Parallel(n_jobs=-1)]: Done 3986 out of 4000 | elapsed:  1.5min remaining:    0.3s\n",
      "[Parallel(n_jobs=-1)]: Done 4000 out of 4000 | elapsed:  1.5min finished\n"
     ]
    },
    {
     "name": "stdout",
     "output_type": "stream",
     "text": [
      "Model best_params: {'kernel': 'linear', 'C': 1.2209090909090909}\n",
      "Model score : 0.189620686316\n",
      "RMSE:  0.136722737493\n"
     ]
    },
    {
     "data": {
      "text/plain": [
       "SVR(C=1.2209090909090909, cache_size=200, coef0=0.0, degree=3, epsilon=0.1,\n",
       "  gamma=0.0, kernel='linear', max_iter=-1, shrinking=True, tol=0.001,\n",
       "  verbose=False)"
      ]
     },
     "execution_count": 32,
     "metadata": {},
     "output_type": "execute_result"
    }
   ],
   "source": [
    "vectorize = TfidfVectorizer(analyzer='char', ngram_range=(3,3))\n",
    "\n",
    "parameters = {}\n",
    "X, y = d.get_samples('open')\n",
    "y = np.array(y, dtype=float)\n",
    "vectorize = TfidfVectorizer(analyzer='char', ngram_range=(3,3))\n",
    "Xvec = vectorize.fit_transform(X)\n",
    "model = modelEvaluator(Xvec, y, LinearRegression(normalize=True), parameters,num_flods=10,scoring='mean_squared_error',classifier=False)\n",
    "modelEvaluator(Xvec, y, DecisionTreeRegressor(), parameters,num_flods=10,scoring='mean_squared_error',classifier=False)\n",
    "modelEvaluator(Xvec, y, RandomForestRegressor(), parameters,num_flods=10,scoring='mean_squared_error',classifier=False)\n",
    "parameters = {'kernel':('linear', 'rbf','poly','sigmoid'), 'C':linspace(0.01, 10,100)}\n",
    "modelEvaluator(Xvec, y, SVR(), parameters,num_flods=10,scoring='mean_squared_error',classifier=False)"
   ]
  },
  {
   "cell_type": "code",
   "execution_count": null,
   "metadata": {
    "collapsed": true
   },
   "outputs": [],
   "source": []
  }
 ],
 "metadata": {
  "kernelspec": {
   "display_name": "Python 2",
   "language": "python",
   "name": "python2"
  },
  "language_info": {
   "codemirror_mode": {
    "name": "ipython",
    "version": 2
   },
   "file_extension": ".py",
   "mimetype": "text/x-python",
   "name": "python",
   "nbconvert_exporter": "python",
   "pygments_lexer": "ipython2",
   "version": "2.7.11"
  }
 },
 "nbformat": 4,
 "nbformat_minor": 0
}

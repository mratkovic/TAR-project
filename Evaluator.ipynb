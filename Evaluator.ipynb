{
 "cells": [
  {
   "cell_type": "code",
   "execution_count": 1,
   "metadata": {
    "collapsed": false
   },
   "outputs": [
    {
     "name": "stdout",
     "output_type": "stream",
     "text": [
      "Populating the interactive namespace from numpy and matplotlib\n"
     ]
    }
   ],
   "source": [
    "import scipy as sp\n",
    "import sklearn\n",
    "import os\n",
    "\n",
    "%pylab inline"
   ]
  },
  {
   "cell_type": "code",
   "execution_count": 2,
   "metadata": {
    "collapsed": true
   },
   "outputs": [],
   "source": [
    "from BeautifulSoup import BeautifulSoup\n",
    "\n",
    "# PREPROCESS XML DOCUMENTS\n",
    "def extract_from_xml(xml):\n",
    "    bs = BeautifulSoup(xml)\n",
    "    # tab na pocetku\n",
    "    return [document.text.rstrip('\\t') for document in bs.findAll('document')]\n",
    "\n",
    "\n",
    "def remove_special_data(text):\n",
    "    # TODO if needed\n",
    "    return text"
   ]
  },
  {
   "cell_type": "code",
   "execution_count": 3,
   "metadata": {
    "collapsed": false
   },
   "outputs": [],
   "source": [
    "''' User class used to store parsed data'''\n",
    "class User(object):\n",
    "\n",
    "    def __init__(self, line):\n",
    "        self.labels = ['userid', 'gender', 'age_group',\n",
    "                       'extroverted', 'stable', 'agreeable',\n",
    "                       'conscientious', 'open']\n",
    "\n",
    "        parts = map(str.strip, line.split(FIELDS_DELIMITER))\n",
    "        self.userid = parts[0]\n",
    "        self.gender = parts[1]\n",
    "        self.age_group = parts[2]\n",
    "\n",
    "        self.extroverted = parts[3]\n",
    "        self.stable = parts[4]\n",
    "        self.agreeable = parts[5]\n",
    "        self.conscientious = parts[6]\n",
    "        self.open = parts[7]\n",
    "        self.documents = []\n",
    "   \n",
    "    def user_details(self):\n",
    "        ''' Returns stats as vector'''\n",
    "        return [self.userid, self.age, self.gender, \n",
    "                self.age_group, self.extroverted, \n",
    "                self.stable, self.agreeable,\n",
    "                self.conscientious, self.open]\n",
    "\n",
    "    def user_documents(self):\n",
    "        return self.documents\n",
    "\n"
   ]
  },
  {
   "cell_type": "code",
   "execution_count": 4,
   "metadata": {
    "collapsed": true
   },
   "outputs": [],
   "source": [
    "TRUTH_FILE = 'truth.txt'\n",
    "FIELDS_DELIMITER = ':::'\n",
    "\n",
    "'''Dataset wrapper - parses, cleans and stores user data (documents and truth)\n",
    "'''\n",
    "class Dataset(object):\n",
    "\n",
    "    def __init__(self, path):\n",
    "        if not os.path.exists(path) or not os.path.isdir(path):\n",
    "            raise Exception('No such dir ' + path)\n",
    "\n",
    "        self.path = path\n",
    "        self.users = {}\n",
    "        self.load()\n",
    "\n",
    "    def load(self):\n",
    "        '''Parse data'''\n",
    "        user_files = filter(lambda name: name != TRUTH_FILE, os.listdir(self.path))\n",
    "        truth = os.path.join(self.path, TRUTH_FILE)\n",
    "        assert os.path.isfile(truth)\n",
    "\n",
    "        # load truth\n",
    "        with open(truth, 'r') as f:\n",
    "            for line in f:\n",
    "                user = User(line)\n",
    "                self.users[user.userid] = user\n",
    "\n",
    "        # load texts\n",
    "        for path in user_files:\n",
    "            user = os.path.splitext(path)[0]\n",
    "            path = os.path.join(self.path, path)\n",
    "\n",
    "            with open(path, 'r') as xml:\n",
    "                content = extract_from_xml(xml.read())\n",
    "                self.users[user].documents = map(remove_special_data, content)"
   ]
  },
  {
   "cell_type": "code",
   "execution_count": 5,
   "metadata": {
    "collapsed": false
   },
   "outputs": [
    {
     "name": "stdout",
     "output_type": "stream",
     "text": [
      "[u'\"Fun is the enjoyment of pleasure\"', u'@username det fanns ett utvik med \"sabrina without a stitch\". acke nothing. @username', u'@username precis. \"gladly the cross-eyed bear\" och s\\xe5 heter de. med liksom barnramsetitlar.', u'my first tweet hearing abdur give a talk reveals the yrvaken adopter r\\xe4dsla to komma efter. https://t.co/1xHmfaqZ9H - http://t.co/T84otR565O', u'@username ? feedback?', u'what women want on the dance floor - forskare har kul med avatarer \\nhttp://t.co/6SZXBHhtas', u'@username pain chocolate!', u'@username I AM THE DOUGHBOY!', u'\"The Unwisdom of Crowds?? Why people-powered revolutions are overrated\" by @username http://t.co/Jf1xnrgatV', u'Nonsensical junk opinion piece on big data in the ny times http://t.co/KzRgtJjVw2', u'ahoy, @username we need a statement: http://t.co/gqspe6LVvX', u'@username estland ftw @username', u'Stillsuits are here! KTH+HVR  #fremen http://t.co/DdqzrXXtfj', u'Commation is the first casualty of a riot. http://t.co/F5lrFLsPJo', u'@username my brother once had some experienced conceptual modellers translate an ERD back & forth to/from txt. stayed pretty stable. @username', u'@username @username @username altho to b fair this talk I think was motivated by \"here\\'s a set of entities, let\\'s explain them\" no graph to begin w.', u\"It's really not the data, it's the *character* of the data. Describe the data, don't share it.  #ecir2014\", u'If we keep sharing data sets and training on them we cannot but land in overtraining and parameter fiddling. #ecir2014', u'The original reason to share data was as much convenience as reproducibility. #ecir2014', u\"@username true, but that's not a canned corpus, it's precisely what I like: it's a stream. @username\", u'@username and results can be of the form: \"on one month of Portuguese tweets we got the following ...\"  @username', u'@username  you are the query. @username', u\"@username @username i'm in it too! @username\", u'@username @username @username @username but is universal the thing? behaviour patterns differ acrs situs & r reflected in cross-platform logs.', u'minidator, really? http://t.co/XyVX2EwA47', u'Add data on your company: collect data on women software engineers https://t.co/dXb5I68DcH by @username', u'it\\'s reviewing time again. my primary pro criteria: \"fun & interesting\",\"change\",\"surprising\"; con criterion the term \"our system\" ? paper.', u'@username @username @username gl\\xf6m inte baby elephants', u\"@username @username @username @username it's turtles all the way down.\", u'ur en sorts akademiskt nigeriabrev jag just fick: \"...As I am now applying for the United States Immigration (a.k.a. the Greed Card)...\"', u'@username\" \"the word trigger warning can in itself be a trigger warning\" s\\xe5g jag n\\xe5gon bli \\xe5thutad med h\\xe4romnyssens.', u'people in pursuit of happiness. \"we ... identified and arrested the accused within six hours\": http://t.co/ev4ZGni7EP', u'hotellbroschyren: \"we invite you to discover rare, unexpected pleasures during your stay\" *lite oroligt f\\xf6rv\\xe4ntansfull nu*', u'hotellbroschyren: \"...allow us to anticipate the details of your life as simple moments turn to lasting memories\" hj\\xe4lp DE \\xc4R SYNSKA!', u'how far away from the office could I get in 10 minutes? http://t.co/8S8m9naYUM  ping @username - en isoskop!', u'Men vafan!? \"@username: With the leaders of Germany, Sweden and Holland. We agreed to tackle benefits tourism. http://t.co/jWwzBjOySR\"', u'The night America very nearly nuked itself. Scary.  http://t.co/grGlTcalbf', u'@username you may well be right; my observation still stands: he is popular well outside his constituency. @username', u'@username my major point is to contrast fi w/ sw pol. competence and stubbornness is valued higher in fi; consensus in sw.  @username', u'@username i once compared sw cabinet w/ fi cabinet wrt formal educational level. striking difference. https://t.co/8DKRJDeRH7 @username', u'\"Sorry, command-not-found has crashed! \"', u'Short paper on \"Semantic Topology\" accepted for poster presentation at #CIKM2014 !', u\"The world isn't less stable than ever.  \\n\\nhttp://t.co/LkJg4L4IUk\", u'@username recorded future', u'@username the view from narva and hermannsborg over the border river to ivangorod. make sure to bring a historian!  @username', u'Solid work, empiry with a clear theoretical base: RT \"@username: Every state in the USA, ranked by its beer http://t.co/IKJwQ3QzPm\"', u'Effekten av feodalism och socialism RmT \"Life expectancy: EU vs US regions\" http://t.co/B5ZD0sd2zq \\u2026via @username @username', u'@username yes, and we do, ever so often!', u'Obama: The defense of Tallinn and Riga and Vilnius is just as important as the defense of Berlin, Paris and London\\nhttp://t.co/gzL85me3hO', u'Wrong type to apply: #<unspecified> \\n\\n#informativeerrormessage', u'@username the best way to make sure the headgear moves from a fashion statement to the mundane is to spell it in swedish: \"bejsbollkeps\".', u'Ping @username \\u2018Satanic Children\\u2019s Big Book of Activities\\u2019 http://t.co/zwI63IL9Ui http://t.co/8Pugjyhhxc', u'Miguel Mart\\xednez from Signal talks about agile research in a high tech startup for reputation management. http://t.co/qfEOTdxHNo', u'CLEF 2016 will be in \\xc9vora, Portugal - a world heritage city - on the theme \"Europe meets Asia\". #clef2014', u'@username filmerna om inspector tennyson.', u'How Swedes view Sweden at election time.  http://t.co/caW4OeAwBi', u'@username men ocks\\xe5: \"Space isn\\'t remote at all. It\\'s only an hour\\'s drive away if your car could go straight upwards.\" / Fred Hoyle', u'xkcd is always xkcd http://t.co/LxXIwzcMD1 ... but CLEF has a partial answer here! \\nhttp://t.co/Ud2qq8PeLc', u'\"Sorry, command-not-found has crashed!\"', u'command-not-found version: 0.2.44', u'Apache CouchDB is running as process 20278, time to relax.', u'@username @username puff puff!', u'\"Cecilia Malmstr\\xf6m had threatened to resign over Juncker\\u2019s plans to exclude ISDS\" http://t.co/N6ATs7DYq8', u'Anonabox suspended from Kickstarter? Wat?', u'@username how many hidden levels in that classifier? WILL IT SCALE?', u'@username oh! can you do summary tweets?', u\"@username Yup, I'm the intelligent odor controller. http://t.co/3VL5LeLzyP\", u'\"while Russia is not a very legal state, it is highly legalistic\" Anders \\xc5slund tallies up Russia\\'s reserves: http://t.co/EeeQ4wDWRx', u'Kicking off #searchsolutions2014 @username holds forth on the Semantic Web. http://t.co/wy2jThKCVu', u'Christopher Semturs of Google tells us about the challenges of text and context modelling #searchsolutions2014 http://t.co/noLuvh2D6E', u'Contextual analysis w bandit metaphor to explore payoffs of algos: Katja Hoffmann of Microsoft #searchsolutions2014 http://t.co/u88wcnWw0t', u'Tom Mortimer of Flax compares Elasticsearch w/ Solr #searchsolutions2014 practitioners take note! http://t.co/eY91SuFfLO', u'Iadh Ounis and Craig McD from Glasgow U tell us about Terrier open src search engine #SearchSolutions2014 http://t.co/0Fg58hazZ7', u'Richard Boulton of gov.uk talks about the peculiarities of implementing trustable site search #searchsolutions2014 http://t.co/OaNh08TRKm', u'Dominic Oldman, digital humanist of the British Museum, tells us about Joseph Conrad.  #searchsolutions2014 http://t.co/DQBdXmzbcl', u'Richard Ranft of the British Library tells us about crowdsourcing metadata for audio data #searchsolutions2014 http://t.co/zepmafJeQ3', u'Jochen Leidner of Thomson Reuters tells us about r&d in information access for 1G daily users #searchsolutions2014 http://t.co/aN2NzZlMDo', u'@username hmm, yes. also, some routing issues: luxemburg, cyprus are large investors thru bank acct addresses. @username', u'@username ... but it did share information i had no idea of! @username', u'erlang the movie finds a new audience thru wired.  @username !\\n\\nhttp://t.co/rxYGah09pv', u\"Gavagai's developer API is up! Two powerful tools to work with text data: \\n/stories and /tonality! Try it at https://t.co/cV0d9B9Q5D !\", u'@username TRANSPIRANTO! Mi myst most in flatans pampas!', u'Discovery learning...is criminally wasteful: \\u201cIt\\u2019s very difficult to learn from the real world. Apples dropped from trees for centuries...\"', u'Solstice', u'\"Satanist group mounts holiday Snaketivity Scene\" http://t.co/GzHZHCrJXz (found via Gavagai monitor http://t.co/ah4OSwClmx )', u'Medelv\\xe4rden d\\xf6ljer information \\n\\nTop tipplers: measuring national booziness - From The Economist Espresso\\n\\nhttp://t.co/AZkyCGE6bY', u'Started: Sun Dec 28 10:54:43\\n2378817162 words processed\\nFinished: Mon Dec 29 09:37:07', u'@username @username jonathan livingston penguin', u'\"I do not intend for a moment to minimise Aaronson\\'s suffering.\" *immediately proceeds to relativize and trump it* http://t.co/67HPlbpvNJ', u'@username piratstreaming istf torrent.', u'@username hon gjorde ett utvik! \"the teenage witch without a stitch\"!', u'@username four corners', u'@username the other day @username coined \"folk\\xf6lsislamolog\" which should be on the list of must-have neologisms of 2015', u'@username @username wonderful! thank you!', u'Report by @username  - #JeSuisCharlie Movement Leveraged to Distribute DarkComet Malware https://t.co/k9sOEpKjbg']\n"
     ]
    }
   ],
   "source": [
    "#simple demo\n",
    "dataset_path = './dataset/english'\n",
    "d = Dataset(dataset_path)\n",
    "print d.users['user1'].documents"
   ]
  },
  {
   "cell_type": "code",
   "execution_count": 15,
   "metadata": {
    "collapsed": true
   },
   "outputs": [],
   "source": [
    "# below code taken and adapted from example\n",
    "# @ http://scikit-learn.org/stable/auto_examples/plot_learning_curve.html\n",
    "from sklearn.learning_curve import learning_curve\n",
    "def plot_learning_curve(estimator, title, X, y, ylim=None, cv=None, n_jobs=-1, train_sizes=np.linspace(.1, 1.0, 10)):\n",
    "    \"\"\"\n",
    "    Generate a simple plot of the test and traning learning curve.\n",
    "\n",
    "    Parameters\n",
    "    ----------\n",
    "    estimator : object type that implements the \"fit\" and \"predict\" methods\n",
    "        An object of that type which is cloned for each validation.\n",
    "\n",
    "    title : string\n",
    "        Title for the chart.\n",
    "\n",
    "    X : array-like, shape (n_samples, n_features)\n",
    "        Training vector, where n_samples is the number of samples and\n",
    "        n_features is the number of features.\n",
    "\n",
    "    y : array-like, shape (n_samples) or (n_samples, n_features), optional\n",
    "        Target relative to X for classification or regression;\n",
    "        None for unsupervised learning.\n",
    "\n",
    "    ylim : tuple, shape (ymin, ymax), optional\n",
    "        Defines minimum and maximum yvalues plotted.\n",
    "\n",
    "    cv : integer, cross-validation generator, optional\n",
    "        If an integer is passed, it is the number of folds (defaults to 3).\n",
    "        Specific cross-validation objects can be passed, see\n",
    "        sklearn.cross_validation module for the list of possible objects\n",
    "\n",
    "    n_jobs : integer, optional\n",
    "        Number of jobs to run in parallel (default 1).\n",
    "    \"\"\"\n",
    "    plt.figure()\n",
    "    plt.title(title)\n",
    "    if ylim is not None:\n",
    "        plt.ylim(*ylim)\n",
    "    plt.xlabel(\"Training examples\")\n",
    "    plt.ylabel(\"Score\")\n",
    "    train_sizes, train_scores, test_scores = learning_curve(estimator, X, y, cv=cv, n_jobs=n_jobs, train_sizes=train_sizes)\n",
    "    train_scores_mean = np.mean(train_scores, axis=1)\n",
    "    train_scores_std = np.std(train_scores, axis=1)\n",
    "    test_scores_mean = np.mean(test_scores, axis=1)\n",
    "    test_scores_std = np.std(test_scores, axis=1)\n",
    "    plt.grid()\n",
    "\n",
    "    plt.fill_between(train_sizes, train_scores_mean - train_scores_std,\n",
    "                     train_scores_mean + train_scores_std, alpha=0.1,\n",
    "                     color=\"r\")\n",
    "    plt.fill_between(train_sizes, test_scores_mean - test_scores_std,\n",
    "                     test_scores_mean + test_scores_std, alpha=0.1, color=\"g\")\n",
    "    plt.plot(train_sizes, train_scores_mean, 'o-', color=\"r\",\n",
    "             label=\"Training score\")\n",
    "    plt.plot(train_sizes, test_scores_mean, 'o-', color=\"g\",\n",
    "             label=\"Cross-validation score\")\n",
    "\n",
    "    plt.legend(loc=\"best\")\n",
    "    return plt"
   ]
  },
  {
   "cell_type": "code",
   "execution_count": 16,
   "metadata": {
    "collapsed": false
   },
   "outputs": [],
   "source": [
    "from sklearn.grid_search import GridSearchCV\n",
    "from sklearn.cross_validation import train_test_split\n",
    "from sklearn.metrics import f1_score, precision_score, recall_score, confusion_matrix,precision_recall_curve\n",
    "\n",
    "\n",
    "#TODO jos dodati ovaj precision_recall_curve, pokazivali na predavanjima cini se korisno\n",
    "def printScore(y_true,y_pred,average='micro'):\n",
    "    print average+\" scores:\"\n",
    "    print \"\\t P  = %s\" % precision_score(y_true,y_pred,average=average)\n",
    "    print \"\\t R  = %s\" % recall_score(y_true,y_pred,average=average)\n",
    "    print \"\\t F1 = %s\" % f1_score(y_true,y_pred,average=average)\n",
    "\n",
    "\n",
    "def modelEvaluator(X, y, model, parameters, scoring = None, num_flods = 3,test_size = 0.3,ylim=None,train_sizes_lncurv=np.linspace(.1, 1.0, 10)):\n",
    "   \n",
    "    X_train, X_test, y_train, y_test = train_test_split(X, y, test_size=test_size, random_state=42)\n",
    "    \n",
    "    grid_cv = GridSearchCV( model, parameters, scoring = scoring, n_jobs = -1, verbose = 1, cv = num_flods)\n",
    "    grid_cv.fit(X_train,y_train)\n",
    "    \n",
    "    print 'Model best_params: %s' % grid_cv.best_params_\n",
    "    estimator = grid_cv.best_estimator_\n",
    "    print 'Model acc : %s' % estimator.score(X_test,y_test)\n",
    "    \n",
    "    y_pred = estimator.predict(X_test)\n",
    "    \n",
    "    print \"Confusion matrix:\\n %s\" % confusion_matrix(y_test,y_pred)\n",
    "    \n",
    "    #TODO trebaju biti binarne, problem onda treba minjati OVO i OVR \n",
    "    #precision, recall, _ = precision_recall_curve(y_test.ravel(), y_pred.ravel())\n",
    "    #plt.plot(precision,recall)\n",
    "    \n",
    "    if scoring == None:\n",
    "            printScore(y_test,y_pred,'macro')\n",
    "            printScore(y_test,y_pred)\n",
    "    \n",
    "    plot_learning_curve(estimator, \"Test\", X, y,  ylim=ylim, cv=num_flods,train_sizes=train_sizes_lncurv)"
   ]
  },
  {
   "cell_type": "code",
   "execution_count": 17,
   "metadata": {
    "collapsed": false
   },
   "outputs": [
    {
     "name": "stdout",
     "output_type": "stream",
     "text": [
      "Fitting 3 folds for each of 4 candidates, totalling 12 fits\n"
     ]
    },
    {
     "name": "stderr",
     "output_type": "stream",
     "text": [
      "[Parallel(n_jobs=-1)]: Done   1 jobs       | elapsed:    0.0s\n",
      "[Parallel(n_jobs=-1)]: Done  11 out of  12 | elapsed:    0.4s remaining:    0.0s\n",
      "[Parallel(n_jobs=-1)]: Done  12 out of  12 | elapsed:    0.5s finished\n"
     ]
    },
    {
     "name": "stdout",
     "output_type": "stream",
     "text": [
      "Model best_params: {'kernel': 'linear', 'C': 10000000}\n",
      "Model acc : 0.97962962963\n",
      "Confusion matrix:\n",
      " [[53  0  0  0  0  0  0  0  0  0]\n",
      " [ 0 49  0  0  0  0  0  0  1  0]\n",
      " [ 0  0 47  0  0  0  0  0  0  0]\n",
      " [ 0  0  1 52  0  1  0  0  0  0]\n",
      " [ 0  1  0  0 59  0  0  0  0  0]\n",
      " [ 0  0  0  0  0 64  0  1  0  1]\n",
      " [ 0  0  0  0  0  0 53  0  0  0]\n",
      " [ 0  0  0  0  0  0  0 54  0  1]\n",
      " [ 0  0  0  0  0  1  0  0 42  0]\n",
      " [ 0  0  0  0  1  0  0  1  1 56]]\n",
      "macro scores:\n",
      "\t P  = 0.979654537991\n",
      "\t R  = 0.980370817623\n",
      "\t F1 = 0.979939123433\n",
      "micro scores:\n",
      "\t P  = 0.97962962963\n",
      "\t R  = 0.97962962963\n",
      "\t F1 = 0.97962962963\n"
     ]
    },
    {
     "data": {
      "image/png": "[encoded data removed]",
      "text/plain": [
       "<matplotlib.figure.Figure at 0x7f00c2e817d0>"
      ]
     },
     "metadata": {},
     "output_type": "display_data"
    }
   ],
   "source": [
    "from sklearn.datasets import load_digits\n",
    "from sklearn import svm\n",
    "from sklearn.preprocessing import label_binarize\n",
    "\n",
    "digits = load_digits()\n",
    "X, y = digits.data, digits.target\n",
    "\n",
    "parameters = {'kernel':('linear', 'rbf'), 'C':[0.001, 10000000]}\n",
    "model = svm.SVC()\n",
    "modelEvaluator(X, y, model, parameters)"
   ]
  },
  {
   "cell_type": "code",
   "execution_count": null,
   "metadata": {
    "collapsed": false
   },
   "outputs": [],
   "source": [
    "list(set(y))"
   ]
  },
  {
   "cell_type": "code",
   "execution_count": null,
   "metadata": {
    "collapsed": true
   },
   "outputs": [],
   "source": []
  }
 ],
 "metadata": {
  "kernelspec": {
   "display_name": "Python 2",
   "language": "python",
   "name": "python2"
  },
  "language_info": {
   "codemirror_mode": {
    "name": "ipython",
    "version": 2
   },
   "file_extension": ".py",
   "mimetype": "text/x-python",
   "name": "python",
   "nbconvert_exporter": "python",
   "pygments_lexer": "ipython2",
   "version": "2.7.11"
  }
 },
 "nbformat": 4,
 "nbformat_minor": 0
}
